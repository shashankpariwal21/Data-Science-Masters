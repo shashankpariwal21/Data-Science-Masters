{
 "cells": [
  {
   "cell_type": "markdown",
   "id": "f537533d-fe7a-48d6-9f81-d3a13f55807f",
   "metadata": {},
   "source": [
    "## Reverse string"
   ]
  },
  {
   "cell_type": "code",
   "execution_count": 1,
   "id": "ba1c6d89-43ab-42a9-9b7b-d19b02e89e87",
   "metadata": {},
   "outputs": [],
   "source": [
    "name='shashank'"
   ]
  },
  {
   "cell_type": "code",
   "execution_count": 3,
   "id": "540f3218-6261-4076-8338-d2f9d41a9a65",
   "metadata": {},
   "outputs": [
    {
     "data": {
      "text/plain": [
       "'knahsahs'"
      ]
     },
     "execution_count": 3,
     "metadata": {},
     "output_type": "execute_result"
    }
   ],
   "source": [
    "name[::-1]"
   ]
  },
  {
   "cell_type": "code",
   "execution_count": 4,
   "id": "e4c47e96-5eac-436e-b0c8-927fe71c2471",
   "metadata": {},
   "outputs": [
    {
     "data": {
      "text/plain": [
       "<reversed at 0x7f527243f310>"
      ]
     },
     "execution_count": 4,
     "metadata": {},
     "output_type": "execute_result"
    }
   ],
   "source": [
    "reversed(name)"
   ]
  },
  {
   "cell_type": "code",
   "execution_count": 5,
   "id": "e7586c96-5a5d-437d-a2c5-60aa75079ac5",
   "metadata": {},
   "outputs": [
    {
     "data": {
      "text/plain": [
       "'kanaaahasaaahas'"
      ]
     },
     "execution_count": 5,
     "metadata": {},
     "output_type": "execute_result"
    }
   ],
   "source": [
    "'a'.join(reversed(name))"
   ]
  },
  {
   "cell_type": "code",
   "execution_count": 6,
   "id": "a8bdf1b5-8937-4de7-b171-854ac6e592c2",
   "metadata": {},
   "outputs": [
    {
     "data": {
      "text/plain": [
       "'spariwalhpariwalapariwalspariwalhpariwalapariwalnpariwalk'"
      ]
     },
     "execution_count": 6,
     "metadata": {},
     "output_type": "execute_result"
    }
   ],
   "source": [
    "'pariwal'.join(name)"
   ]
  },
  {
   "cell_type": "code",
   "execution_count": 7,
   "id": "2f3be957-22a6-4b6e-9651-8e28f4aa8467",
   "metadata": {},
   "outputs": [
    {
     "data": {
      "text/plain": [
       "'s h a s h a n k'"
      ]
     },
     "execution_count": 7,
     "metadata": {},
     "output_type": "execute_result"
    }
   ],
   "source": [
    "' '.join(name)"
   ]
  },
  {
   "cell_type": "code",
   "execution_count": 8,
   "id": "50a4e8c8-8187-4c11-9e5c-5db7066434d2",
   "metadata": {},
   "outputs": [
    {
     "data": {
      "text/plain": [
       "'pbabrbibwbabl'"
      ]
     },
     "execution_count": 8,
     "metadata": {},
     "output_type": "execute_result"
    }
   ],
   "source": [
    "\"b\".join(\"pariwal\")"
   ]
  },
  {
   "cell_type": "code",
   "execution_count": 9,
   "id": "5de2b425-2806-42a9-8cd2-5d4f8296254b",
   "metadata": {},
   "outputs": [
    {
     "data": {
      "text/plain": [
       "['k', 'n', 'a', 'h', 's', 'a', 'h', 's']"
      ]
     },
     "execution_count": 9,
     "metadata": {},
     "output_type": "execute_result"
    }
   ],
   "source": [
    "list(reversed(name))"
   ]
  },
  {
   "cell_type": "code",
   "execution_count": 10,
   "id": "e909d11d-ba28-47a1-a324-89eee42daa13",
   "metadata": {},
   "outputs": [],
   "source": [
    "str1=\"its a very beautiful day\""
   ]
  },
  {
   "cell_type": "code",
   "execution_count": 11,
   "id": "d6cdad44-0e34-43e0-b2c5-d83f94dc64ab",
   "metadata": {},
   "outputs": [
    {
     "data": {
      "text/plain": [
       "'iatasa aaa avaearaya abaeaaauataiafauala adaaay'"
      ]
     },
     "execution_count": 11,
     "metadata": {},
     "output_type": "execute_result"
    }
   ],
   "source": [
    "'a'.join(str1)"
   ]
  },
  {
   "cell_type": "code",
   "execution_count": 12,
   "id": "96661f3f-1bae-4381-8818-38e2c1e68077",
   "metadata": {},
   "outputs": [],
   "source": [
    "## Removing character from the end of the string\n",
    "str_b=\" hello \""
   ]
  },
  {
   "cell_type": "code",
   "execution_count": 13,
   "id": "c0a3742b-f54d-48d2-b9b1-df7787227e56",
   "metadata": {},
   "outputs": [
    {
     "data": {
      "text/plain": [
       "'hello'"
      ]
     },
     "execution_count": 13,
     "metadata": {},
     "output_type": "execute_result"
    }
   ],
   "source": [
    "str_b.strip(' ')"
   ]
  },
  {
   "cell_type": "code",
   "execution_count": 15,
   "id": "f20da31b-5262-457a-a4d1-5344b7381c78",
   "metadata": {},
   "outputs": [
    {
     "data": {
      "text/plain": [
       "'hello '"
      ]
     },
     "execution_count": 15,
     "metadata": {},
     "output_type": "execute_result"
    }
   ],
   "source": [
    "str_b.lstrip(' ')"
   ]
  },
  {
   "cell_type": "code",
   "execution_count": 16,
   "id": "59b8439b-c171-454a-9211-f9745a9a415f",
   "metadata": {},
   "outputs": [
    {
     "data": {
      "text/plain": [
       "' hello'"
      ]
     },
     "execution_count": 16,
     "metadata": {},
     "output_type": "execute_result"
    }
   ],
   "source": [
    "str_b.rstrip(' ')"
   ]
  },
  {
   "cell_type": "code",
   "execution_count": 20,
   "id": "b1e402b4-8a06-443c-8d07-050cc6c9296f",
   "metadata": {},
   "outputs": [
    {
     "data": {
      "text/plain": [
       "' hello '"
      ]
     },
     "execution_count": 20,
     "metadata": {},
     "output_type": "execute_result"
    }
   ],
   "source": [
    "str_b.strip('o') ## immutable property"
   ]
  },
  {
   "cell_type": "code",
   "execution_count": 21,
   "id": "120eab14-d3db-450c-9829-18db3f4e22dc",
   "metadata": {},
   "outputs": [],
   "source": [
    "str_m='hey its a beautiful day '"
   ]
  },
  {
   "cell_type": "code",
   "execution_count": 29,
   "id": "12fa3330-1c41-413d-bd23-0ed5fc50100f",
   "metadata": {},
   "outputs": [
    {
     "data": {
      "text/plain": [
       "'isnt  its a beautiful day '"
      ]
     },
     "execution_count": 29,
     "metadata": {},
     "output_type": "execute_result"
    }
   ],
   "source": [
    "str_m.replace('hey','isnt ')"
   ]
  },
  {
   "cell_type": "code",
   "execution_count": 26,
   "id": "8e955150-c3ce-4607-a75e-1d62a5657e5d",
   "metadata": {},
   "outputs": [
    {
     "data": {
      "text/plain": [
       "'hey its a beautiful day '"
      ]
     },
     "execution_count": 26,
     "metadata": {},
     "output_type": "execute_result"
    }
   ],
   "source": [
    "str_m"
   ]
  },
  {
   "cell_type": "code",
   "execution_count": 34,
   "id": "b0af2cc1-5768-4309-864d-bec899183a79",
   "metadata": {},
   "outputs": [],
   "source": [
    "string1='shashankpariwal@gmail.com'\n",
    "var_a=string1.replace('@',' ')"
   ]
  },
  {
   "cell_type": "code",
   "execution_count": 35,
   "id": "f1f2ce88-0462-43bf-89e4-264a70b61f23",
   "metadata": {},
   "outputs": [
    {
     "data": {
      "text/plain": [
       "'shashankpariwal gmail.com'"
      ]
     },
     "execution_count": 35,
     "metadata": {},
     "output_type": "execute_result"
    }
   ],
   "source": [
    "var_a"
   ]
  },
  {
   "cell_type": "code",
   "execution_count": 38,
   "id": "32f45a48-e69e-4f7b-894c-abd0e2abb708",
   "metadata": {},
   "outputs": [
    {
     "data": {
      "text/plain": [
       "'shashank        pariwal'"
      ]
     },
     "execution_count": 38,
     "metadata": {},
     "output_type": "execute_result"
    }
   ],
   "source": [
    "'shashank\\tpariwal'.expandtabs()"
   ]
  },
  {
   "cell_type": "code",
   "execution_count": 39,
   "id": "ebfc82c9-a116-40eb-bb82-d9d5c7287920",
   "metadata": {},
   "outputs": [],
   "source": [
    "str1=\"Welcome to pwskills.Welcome to Dat cience Masters\""
   ]
  },
  {
   "cell_type": "code",
   "execution_count": 43,
   "id": "8649547d-b35b-43cf-8cde-903bc1fa7595",
   "metadata": {},
   "outputs": [
    {
     "data": {
      "text/plain": [
       "'Welcome to pwskills.Welcome to Data Science Masters'"
      ]
     },
     "execution_count": 43,
     "metadata": {},
     "output_type": "execute_result"
    }
   ],
   "source": [
    "str1.replace('Dat','Data') .replace('cience','Science')"
   ]
  },
  {
   "cell_type": "code",
   "execution_count": 44,
   "id": "678eb2ce-d0d3-481e-8b23-e95203277af0",
   "metadata": {},
   "outputs": [],
   "source": [
    "name='naMe'"
   ]
  },
  {
   "cell_type": "code",
   "execution_count": 49,
   "id": "31146ef9-2be6-484a-8a36-b888b750eaba",
   "metadata": {},
   "outputs": [
    {
     "data": {
      "text/plain": [
       "False"
      ]
     },
     "execution_count": 49,
     "metadata": {},
     "output_type": "execute_result"
    }
   ],
   "source": [
    "name.islower()"
   ]
  },
  {
   "cell_type": "code",
   "execution_count": 45,
   "id": "9793f77c-af66-42cb-8c61-8a3c7dae706b",
   "metadata": {},
   "outputs": [
    {
     "data": {
      "text/plain": [
       "False"
      ]
     },
     "execution_count": 45,
     "metadata": {},
     "output_type": "execute_result"
    }
   ],
   "source": [
    "name.isupper()"
   ]
  },
  {
   "cell_type": "code",
   "execution_count": 47,
   "id": "a7da0b5c-b1f6-452d-a01d-90f307de844b",
   "metadata": {},
   "outputs": [],
   "source": [
    "name='NAME'"
   ]
  },
  {
   "cell_type": "code",
   "execution_count": 48,
   "id": "a069c70f-c4a0-4789-8d26-66d70a3a32ab",
   "metadata": {},
   "outputs": [
    {
     "data": {
      "text/plain": [
       "True"
      ]
     },
     "execution_count": 48,
     "metadata": {},
     "output_type": "execute_result"
    }
   ],
   "source": [
    "name.isupper()"
   ]
  },
  {
   "cell_type": "code",
   "execution_count": 50,
   "id": "c8b9ab63-14cd-43bb-b216-94245154cffd",
   "metadata": {},
   "outputs": [
    {
     "data": {
      "text/plain": [
       "False"
      ]
     },
     "execution_count": 50,
     "metadata": {},
     "output_type": "execute_result"
    }
   ],
   "source": [
    "name.isspace()"
   ]
  },
  {
   "cell_type": "code",
   "execution_count": 53,
   "id": "c531ffcb-7215-436a-89f6-b6b800678f3d",
   "metadata": {},
   "outputs": [
    {
     "data": {
      "text/plain": [
       "True"
      ]
     },
     "execution_count": 53,
     "metadata": {},
     "output_type": "execute_result"
    }
   ],
   "source": [
    "' '.isspace()"
   ]
  },
  {
   "cell_type": "code",
   "execution_count": 54,
   "id": "9868fcd7-9515-48bc-8f87-b44729b07547",
   "metadata": {},
   "outputs": [],
   "source": [
    "name='shashank'"
   ]
  },
  {
   "cell_type": "code",
   "execution_count": 56,
   "id": "c6e26b26-fc4a-4cbb-8739-5c8ab41cb432",
   "metadata": {},
   "outputs": [
    {
     "data": {
      "text/plain": [
       "True"
      ]
     },
     "execution_count": 56,
     "metadata": {},
     "output_type": "execute_result"
    }
   ],
   "source": [
    "name.endswith('k')"
   ]
  },
  {
   "cell_type": "code",
   "execution_count": 57,
   "id": "964f2d10-ddea-47c4-9382-e113602e0dca",
   "metadata": {},
   "outputs": [
    {
     "data": {
      "text/plain": [
       "False"
      ]
     },
     "execution_count": 57,
     "metadata": {},
     "output_type": "execute_result"
    }
   ],
   "source": [
    "name.startswith('k')"
   ]
  },
  {
   "cell_type": "code",
   "execution_count": null,
   "id": "d19efd91-4d96-4a86-bd17-680638b5e64e",
   "metadata": {},
   "outputs": [],
   "source": [
    "## check if all the char in string are alphanumeric"
   ]
  },
  {
   "cell_type": "code",
   "execution_count": 58,
   "id": "8887be3e-db8a-4ca7-a335-c03e1039e065",
   "metadata": {},
   "outputs": [],
   "source": [
    "a='abcd5678'"
   ]
  },
  {
   "cell_type": "code",
   "execution_count": 60,
   "id": "b4b105b5-6244-414a-9895-2a51a6488b00",
   "metadata": {},
   "outputs": [
    {
     "data": {
      "text/plain": [
       "True"
      ]
     },
     "execution_count": 60,
     "metadata": {},
     "output_type": "execute_result"
    }
   ],
   "source": [
    "a.isalnum()"
   ]
  },
  {
   "cell_type": "code",
   "execution_count": 61,
   "id": "628723c2-205a-423a-aa92-9dcfc452bf09",
   "metadata": {},
   "outputs": [
    {
     "data": {
      "text/plain": [
       "False"
      ]
     },
     "execution_count": 61,
     "metadata": {},
     "output_type": "execute_result"
    }
   ],
   "source": [
    "a.isalpha()"
   ]
  },
  {
   "cell_type": "code",
   "execution_count": 62,
   "id": "d088d4cd-fe29-43d1-956c-d53f0a955020",
   "metadata": {},
   "outputs": [],
   "source": [
    "## to count the number of character in the strings"
   ]
  },
  {
   "cell_type": "code",
   "execution_count": 63,
   "id": "cfa0b0d0-9c26-4f48-95ba-3b1032b089cd",
   "metadata": {},
   "outputs": [],
   "source": [
    "intro='its data science'"
   ]
  },
  {
   "cell_type": "code",
   "execution_count": 64,
   "id": "589daf48-95b4-4ac5-a7c4-37532966fced",
   "metadata": {},
   "outputs": [
    {
     "data": {
      "text/plain": [
       "16"
      ]
     },
     "execution_count": 64,
     "metadata": {},
     "output_type": "execute_result"
    }
   ],
   "source": [
    "len(intro)"
   ]
  },
  {
   "cell_type": "code",
   "execution_count": 72,
   "id": "c0a6a439-bb2b-48a0-936b-d734b37f67c7",
   "metadata": {},
   "outputs": [
    {
     "data": {
      "text/plain": [
       "range(0, 16)"
      ]
     },
     "execution_count": 72,
     "metadata": {},
     "output_type": "execute_result"
    }
   ],
   "source": [
    "range(len(intro))"
   ]
  },
  {
   "cell_type": "code",
   "execution_count": 73,
   "id": "a2d000d0-2047-4708-b922-afa8a0de51d3",
   "metadata": {},
   "outputs": [
    {
     "name": "stdout",
     "output_type": "stream",
     "text": [
      "0 = its data science\n",
      "1 = its data science\n",
      "2 = its data science\n",
      "3 = its data science\n",
      "4 = its data science\n",
      "5 = its data science\n",
      "6 = its data science\n",
      "7 = its data science\n",
      "8 = its data science\n",
      "9 = its data science\n",
      "10 = its data science\n",
      "11 = its data science\n",
      "12 = its data science\n",
      "13 = its data science\n",
      "14 = its data science\n",
      "15 = its data science\n"
     ]
    }
   ],
   "source": [
    "for i in range(len(intro)):\n",
    "    print(i,'=',intro)\n"
   ]
  },
  {
   "cell_type": "code",
   "execution_count": 74,
   "id": "413fba11-87ba-40fe-8c57-f1ec358e37d3",
   "metadata": {},
   "outputs": [
    {
     "name": "stdout",
     "output_type": "stream",
     "text": [
      "0 = i\n",
      "1 = t\n",
      "2 = s\n",
      "3 =  \n",
      "4 = d\n",
      "5 = a\n",
      "6 = t\n",
      "7 = a\n",
      "8 =  \n",
      "9 = s\n",
      "10 = c\n",
      "11 = i\n",
      "12 = e\n",
      "13 = n\n",
      "14 = c\n",
      "15 = e\n"
     ]
    }
   ],
   "source": [
    "for i in range(len(intro)):\n",
    "    print(i,'=',intro[i])\n"
   ]
  },
  {
   "cell_type": "code",
   "execution_count": 90,
   "id": "ad1b15bd-02bc-4e8b-8d35-9a5a41bd6c8d",
   "metadata": {},
   "outputs": [
    {
     "name": "stdout",
     "output_type": "stream",
     "text": [
      "its data science [15]\n",
      "its data science [14]\n",
      "its data science [13]\n",
      "its data science [12]\n",
      "its data science [11]\n",
      "its data science [10]\n",
      "its data science [9]\n",
      "its data science [8]\n",
      "its data science [7]\n",
      "its data science [6]\n",
      "its data science [5]\n",
      "its data science [4]\n",
      "its data science [3]\n",
      "its data science [2]\n",
      "its data science [1]\n",
      "its data science [0]\n"
     ]
    }
   ],
   "source": [
    "## reversing\n",
    "for i in range (len(intro)-1,-1,-1):\n",
    "    print(intro,[i])"
   ]
  },
  {
   "cell_type": "code",
   "execution_count": 93,
   "id": "692b6ccb-8fb9-422e-96ec-e2f18c371c39",
   "metadata": {},
   "outputs": [],
   "source": [
    "Name = \"helloworld\"\n",
    "vowels = \"AaEeIiOoUu\""
   ]
  },
  {
   "cell_type": "code",
   "execution_count": 94,
   "id": "116d5b4c-759c-428a-a2eb-c5905b2aac50",
   "metadata": {},
   "outputs": [
    {
     "name": "stdout",
     "output_type": "stream",
     "text": [
      "h is not a vowel\n",
      "e is a vowel\n",
      "l is not a vowel\n",
      "l is not a vowel\n",
      "o is a vowel\n",
      "w is not a vowel\n",
      "o is a vowel\n",
      "r is not a vowel\n",
      "l is not a vowel\n",
      "d is not a vowel\n"
     ]
    }
   ],
   "source": [
    "for ch in Name:\n",
    "    if ch in vowels:\n",
    "        print(\"{} is a vowel\".format(ch))\n",
    "    else:\n",
    "        print(\"{} is not a vowel\".format(ch))"
   ]
  },
  {
   "cell_type": "markdown",
   "id": "c51a2419-75cc-4e03-be79-64d2a9018c55",
   "metadata": {},
   "source": [
    "## Lists\n",
    "### built in mutable sequence"
   ]
  },
  {
   "cell_type": "code",
   "execution_count": 95,
   "id": "8bc391ff-f5e5-4357-b2f2-9862fc76d3f2",
   "metadata": {},
   "outputs": [
    {
     "data": {
      "text/plain": [
       "list"
      ]
     },
     "execution_count": 95,
     "metadata": {},
     "output_type": "execute_result"
    }
   ],
   "source": [
    "type([])"
   ]
  },
  {
   "cell_type": "code",
   "execution_count": 96,
   "id": "0aad609a-02dd-40dc-91bb-054a8afc290d",
   "metadata": {},
   "outputs": [
    {
     "data": {
      "text/plain": [
       "[1, 2, 3, 4, 5]"
      ]
     },
     "execution_count": 96,
     "metadata": {},
     "output_type": "execute_result"
    }
   ],
   "source": [
    "list([1,2,3,4,5])"
   ]
  },
  {
   "cell_type": "code",
   "execution_count": 97,
   "id": "d4e3817d-c0a5-4d1e-b9dc-bcfefd3c0976",
   "metadata": {},
   "outputs": [
    {
     "data": {
      "text/plain": [
       "['shashank', 22, 'pariwal']"
      ]
     },
     "execution_count": 97,
     "metadata": {},
     "output_type": "execute_result"
    }
   ],
   "source": [
    "['shashank',22,'pariwal']"
   ]
  },
  {
   "cell_type": "code",
   "execution_count": 108,
   "id": "bbd07ba6-8366-4953-9ee4-2434c78a3108",
   "metadata": {},
   "outputs": [],
   "source": [
    "name='shashank pariwal'"
   ]
  },
  {
   "cell_type": "code",
   "execution_count": 111,
   "id": "2d113806-f842-4ab8-80d4-9ad887969142",
   "metadata": {},
   "outputs": [
    {
     "data": {
      "text/plain": [
       "['s',\n",
       " 'h',\n",
       " 'a',\n",
       " 's',\n",
       " 'h',\n",
       " 'a',\n",
       " 'n',\n",
       " 'k',\n",
       " ' ',\n",
       " 'p',\n",
       " 'a',\n",
       " 'r',\n",
       " 'i',\n",
       " 'w',\n",
       " 'a',\n",
       " 'l']"
      ]
     },
     "execution_count": 111,
     "metadata": {},
     "output_type": "execute_result"
    }
   ],
   "source": [
    "list(name)"
   ]
  },
  {
   "cell_type": "code",
   "execution_count": 110,
   "id": "4dabea72-da71-4168-9b67-d776eb5070a1",
   "metadata": {},
   "outputs": [
    {
     "data": {
      "text/plain": [
       "['shashank', 'pariwal']"
      ]
     },
     "execution_count": 110,
     "metadata": {},
     "output_type": "execute_result"
    }
   ],
   "source": [
    "list(name.split(' '))"
   ]
  },
  {
   "cell_type": "code",
   "execution_count": null,
   "id": "92e65923-7909-4508-af72-afee24ae6f3f",
   "metadata": {},
   "outputs": [],
   "source": [
    "##list is unodered collection of elements"
   ]
  },
  {
   "cell_type": "code",
   "execution_count": 113,
   "id": "78abefbc-8424-4b72-9aef-36ce0bf75a7a",
   "metadata": {},
   "outputs": [],
   "source": [
    "lst1=name.split(' ')"
   ]
  },
  {
   "cell_type": "code",
   "execution_count": 114,
   "id": "586ec28c-1cea-4e1d-959b-4833ccddbe50",
   "metadata": {},
   "outputs": [
    {
     "data": {
      "text/plain": [
       "['shashank', 'pariwal']"
      ]
     },
     "execution_count": 114,
     "metadata": {},
     "output_type": "execute_result"
    }
   ],
   "source": [
    "lst1"
   ]
  },
  {
   "cell_type": "code",
   "execution_count": 120,
   "id": "ae02275f-a7bb-483f-afc0-c60ba68e9e23",
   "metadata": {},
   "outputs": [
    {
     "data": {
      "text/plain": [
       "'pariwal'"
      ]
     },
     "execution_count": 120,
     "metadata": {},
     "output_type": "execute_result"
    }
   ],
   "source": [
    "lst1[1]"
   ]
  },
  {
   "cell_type": "code",
   "execution_count": 123,
   "id": "bcc20954-2273-4c83-973a-3be7f7871f43",
   "metadata": {},
   "outputs": [
    {
     "data": {
      "text/plain": [
       "'shashank'"
      ]
     },
     "execution_count": 123,
     "metadata": {},
     "output_type": "execute_result"
    }
   ],
   "source": [
    "lst1[0]"
   ]
  },
  {
   "cell_type": "code",
   "execution_count": 124,
   "id": "c7a229d5-e6fd-415d-bc92-f555c0bf4103",
   "metadata": {},
   "outputs": [],
   "source": [
    "## concatenation operation "
   ]
  },
  {
   "cell_type": "code",
   "execution_count": 125,
   "id": "fc5ddb1d-adc4-4bdb-b578-d51dc89fa749",
   "metadata": {},
   "outputs": [
    {
     "ename": "TypeError",
     "evalue": "can only concatenate list (not \"int\") to list",
     "output_type": "error",
     "traceback": [
      "\u001b[0;31m---------------------------------------------------------------------------\u001b[0m",
      "\u001b[0;31mTypeError\u001b[0m                                 Traceback (most recent call last)",
      "Cell \u001b[0;32mIn[125], line 1\u001b[0m\n\u001b[0;32m----> 1\u001b[0m \u001b[43mlst1\u001b[49m\u001b[38;5;241;43m+\u001b[39;49m\u001b[38;5;241;43m1\u001b[39;49m\n",
      "\u001b[0;31mTypeError\u001b[0m: can only concatenate list (not \"int\") to list"
     ]
    }
   ],
   "source": [
    "lst1+1"
   ]
  },
  {
   "cell_type": "code",
   "execution_count": 126,
   "id": "e19ed908-056c-4c46-88ac-74f12542ba39",
   "metadata": {},
   "outputs": [
    {
     "data": {
      "text/plain": [
       "['shashank', 'pariwal', 'hey', 75]"
      ]
     },
     "execution_count": 126,
     "metadata": {},
     "output_type": "execute_result"
    }
   ],
   "source": [
    "lst1+['hey',75]"
   ]
  },
  {
   "cell_type": "code",
   "execution_count": 128,
   "id": "9a30f8f9-31cb-4c65-9418-6a232908a5d0",
   "metadata": {},
   "outputs": [],
   "source": [
    "lst2=lst1+[['hey',75]]"
   ]
  },
  {
   "cell_type": "code",
   "execution_count": 129,
   "id": "f6c1bff8-8f7c-4f8e-8f7c-f2edaf19512f",
   "metadata": {},
   "outputs": [
    {
     "data": {
      "text/plain": [
       "['shashank', 'pariwal', ['hey', 75]]"
      ]
     },
     "execution_count": 129,
     "metadata": {},
     "output_type": "execute_result"
    }
   ],
   "source": [
    "lst2"
   ]
  },
  {
   "cell_type": "code",
   "execution_count": 130,
   "id": "042be7a0-aab7-4956-b2f9-0157664fa90e",
   "metadata": {},
   "outputs": [
    {
     "data": {
      "text/plain": [
       "['hey', 75]"
      ]
     },
     "execution_count": 130,
     "metadata": {},
     "output_type": "execute_result"
    }
   ],
   "source": [
    "lst2[-1]"
   ]
  },
  {
   "cell_type": "code",
   "execution_count": 133,
   "id": "fbeb04ff-36b5-4133-99da-7700d4e40a1f",
   "metadata": {},
   "outputs": [
    {
     "data": {
      "text/plain": [
       "'shashank'"
      ]
     },
     "execution_count": 133,
     "metadata": {},
     "output_type": "execute_result"
    }
   ],
   "source": [
    "lst2[0]"
   ]
  },
  {
   "cell_type": "code",
   "execution_count": 135,
   "id": "21982d0d-016a-49cc-bc86-fd11cf30a7b1",
   "metadata": {},
   "outputs": [
    {
     "data": {
      "text/plain": [
       "['shashank', 'pariwal', ['hey', 75], 'shashank', 'pariwal', ['hey', 75]]"
      ]
     },
     "execution_count": 135,
     "metadata": {},
     "output_type": "execute_result"
    }
   ],
   "source": [
    "lst2 *2"
   ]
  },
  {
   "cell_type": "code",
   "execution_count": 137,
   "id": "35f20bac-bded-4b5e-b122-3696160135ab",
   "metadata": {},
   "outputs": [],
   "source": [
    "##check elements inside the list"
   ]
  },
  {
   "cell_type": "code",
   "execution_count": 139,
   "id": "3abf2ae1-bb7a-41da-b135-a686d5a3cf36",
   "metadata": {},
   "outputs": [
    {
     "data": {
      "text/plain": [
       "['shashank', 'pariwal']"
      ]
     },
     "execution_count": 139,
     "metadata": {},
     "output_type": "execute_result"
    }
   ],
   "source": [
    "lst1"
   ]
  },
  {
   "cell_type": "code",
   "execution_count": 142,
   "id": "976fc7f1-9340-40c2-90ed-b90440130eb2",
   "metadata": {},
   "outputs": [
    {
     "data": {
      "text/plain": [
       "True"
      ]
     },
     "execution_count": 142,
     "metadata": {},
     "output_type": "execute_result"
    }
   ],
   "source": [
    "'shashank'in lst1"
   ]
  },
  {
   "cell_type": "code",
   "execution_count": 144,
   "id": "050bd358-888b-4251-9f66-5d1b8edf514d",
   "metadata": {},
   "outputs": [
    {
     "data": {
      "text/plain": [
       "False"
      ]
     },
     "execution_count": 144,
     "metadata": {},
     "output_type": "execute_result"
    }
   ],
   "source": [
    "2 in lst1"
   ]
  },
  {
   "cell_type": "code",
   "execution_count": 145,
   "id": "1ac026f8-0dce-483f-8469-e278afc5d45f",
   "metadata": {},
   "outputs": [],
   "source": [
    "lst1=['jeep','maybach','rolls royce','bugatti']\n",
    "lst2=[1,2,7,8,9,0]"
   ]
  },
  {
   "cell_type": "code",
   "execution_count": 146,
   "id": "1d2abf6b-aa23-4e2c-9e4f-885a049b5d65",
   "metadata": {},
   "outputs": [
    {
     "name": "stdout",
     "output_type": "stream",
     "text": [
      "rolls royce\n"
     ]
    }
   ],
   "source": [
    "print(max(lst1))"
   ]
  },
  {
   "cell_type": "code",
   "execution_count": 147,
   "id": "a42ef66f-e848-45de-998d-5c99c53ac4b4",
   "metadata": {},
   "outputs": [
    {
     "data": {
      "text/plain": [
       "'bugatti'"
      ]
     },
     "execution_count": 147,
     "metadata": {},
     "output_type": "execute_result"
    }
   ],
   "source": [
    "min(lst1)"
   ]
  },
  {
   "cell_type": "code",
   "execution_count": 148,
   "id": "bc7d1089-7321-4357-b090-ae5b1b1c2115",
   "metadata": {},
   "outputs": [
    {
     "data": {
      "text/plain": [
       "9"
      ]
     },
     "execution_count": 148,
     "metadata": {},
     "output_type": "execute_result"
    }
   ],
   "source": [
    "max(lst2)"
   ]
  },
  {
   "cell_type": "code",
   "execution_count": 150,
   "id": "ac857ca8-92a8-438a-a5f8-79edae3ba2e2",
   "metadata": {},
   "outputs": [
    {
     "data": {
      "text/plain": [
       "0"
      ]
     },
     "execution_count": 150,
     "metadata": {},
     "output_type": "execute_result"
    }
   ],
   "source": [
    "min(lst2)"
   ]
  },
  {
   "cell_type": "code",
   "execution_count": 151,
   "id": "72250bfe-d8b7-4427-b2f1-64483e01e1a8",
   "metadata": {},
   "outputs": [],
   "source": [
    "## append"
   ]
  },
  {
   "cell_type": "code",
   "execution_count": null,
   "id": "456d262a-e29f-4ad4-b265-9146af2f54c0",
   "metadata": {},
   "outputs": [],
   "source": [
    "lst1.extend(['shashank','pariwal'])"
   ]
  },
  {
   "cell_type": "code",
   "execution_count": 178,
   "id": "bdcaf6eb-0514-4d62-97b5-f40b3362dafa",
   "metadata": {},
   "outputs": [
    {
     "data": {
      "text/plain": [
       "[0, 1, 3, 4, 6, 8, 8, 'shashank', 'pariwal']"
      ]
     },
     "execution_count": 178,
     "metadata": {},
     "output_type": "execute_result"
    }
   ],
   "source": [
    "lst1"
   ]
  },
  {
   "cell_type": "code",
   "execution_count": 152,
   "id": "523621a8-87b0-47c9-9414-b7a6137c2205",
   "metadata": {},
   "outputs": [
    {
     "data": {
      "text/plain": [
       "['jeep', 'maybach', 'rolls royce', 'bugatti']"
      ]
     },
     "execution_count": 152,
     "metadata": {},
     "output_type": "execute_result"
    }
   ],
   "source": [
    "lst1"
   ]
  },
  {
   "cell_type": "code",
   "execution_count": 153,
   "id": "a57c9cc6-1f05-4194-81d7-cea3d38f8399",
   "metadata": {},
   "outputs": [],
   "source": [
    "lst1.append('lemborghini')"
   ]
  },
  {
   "cell_type": "code",
   "execution_count": 154,
   "id": "52ef5dba-2d5a-48f4-85e3-2bc155e9a4ff",
   "metadata": {},
   "outputs": [
    {
     "data": {
      "text/plain": [
       "['jeep', 'maybach', 'rolls royce', 'bugatti', 'lemborghini']"
      ]
     },
     "execution_count": 154,
     "metadata": {},
     "output_type": "execute_result"
    }
   ],
   "source": [
    "lst1"
   ]
  },
  {
   "cell_type": "code",
   "execution_count": 160,
   "id": "fcc5263d-692f-4a79-8fe7-d0dd596b95c4",
   "metadata": {},
   "outputs": [],
   "source": [
    "## replace the last element of a list from the list [.pop] and any element from last\n",
    "## immplace operation"
   ]
  },
  {
   "cell_type": "code",
   "execution_count": 156,
   "id": "7abc5e20-727b-4322-88e6-b1a85b5e7fc3",
   "metadata": {},
   "outputs": [
    {
     "data": {
      "text/plain": [
       "'lemborghini'"
      ]
     },
     "execution_count": 156,
     "metadata": {},
     "output_type": "execute_result"
    }
   ],
   "source": [
    "lst1.pop()"
   ]
  },
  {
   "cell_type": "code",
   "execution_count": 157,
   "id": "45a61acc-ffe7-42d2-890d-c1aa21657172",
   "metadata": {},
   "outputs": [
    {
     "data": {
      "text/plain": [
       "['jeep', 'maybach', 'rolls royce', 'bugatti']"
      ]
     },
     "execution_count": 157,
     "metadata": {},
     "output_type": "execute_result"
    }
   ],
   "source": [
    "lst1"
   ]
  },
  {
   "cell_type": "code",
   "execution_count": 158,
   "id": "b2c1241a-b449-418c-a249-f8df42166b59",
   "metadata": {},
   "outputs": [
    {
     "data": {
      "text/plain": [
       "'rolls royce'"
      ]
     },
     "execution_count": 158,
     "metadata": {},
     "output_type": "execute_result"
    }
   ],
   "source": [
    "lst1.pop(2)"
   ]
  },
  {
   "cell_type": "code",
   "execution_count": 159,
   "id": "a4685073-423a-4955-a191-4e536f95ec6f",
   "metadata": {},
   "outputs": [
    {
     "data": {
      "text/plain": [
       "['jeep', 'maybach', 'bugatti']"
      ]
     },
     "execution_count": 159,
     "metadata": {},
     "output_type": "execute_result"
    }
   ],
   "source": [
    "lst1"
   ]
  },
  {
   "cell_type": "code",
   "execution_count": 166,
   "id": "2ce36931-cd7c-42d9-a3c6-040361ff063c",
   "metadata": {},
   "outputs": [],
   "source": [
    "removed_element=lst1.pop(1)"
   ]
  },
  {
   "cell_type": "code",
   "execution_count": 167,
   "id": "69cf266e-7bec-4292-a751-8bf71fb32f73",
   "metadata": {},
   "outputs": [
    {
     "data": {
      "text/plain": [
       "'bugatti'"
      ]
     },
     "execution_count": 167,
     "metadata": {},
     "output_type": "execute_result"
    }
   ],
   "source": [
    "removed_element"
   ]
  },
  {
   "cell_type": "code",
   "execution_count": 168,
   "id": "08862fc2-4c7d-46fb-b215-8b266ba42b55",
   "metadata": {},
   "outputs": [],
   "source": [
    "lst1=[8,4,8,3,6,1,0]"
   ]
  },
  {
   "cell_type": "code",
   "execution_count": 170,
   "id": "798568ce-8e60-4232-a611-0104e17d9404",
   "metadata": {},
   "outputs": [],
   "source": [
    "lst1.sort()"
   ]
  },
  {
   "cell_type": "code",
   "execution_count": 175,
   "id": "d7175257-9d11-45de-9403-82e5a16d4395",
   "metadata": {},
   "outputs": [
    {
     "data": {
      "text/plain": [
       "[0, 1, 3, 4, 6, 8, 8]"
      ]
     },
     "execution_count": 175,
     "metadata": {},
     "output_type": "execute_result"
    }
   ],
   "source": [
    "lst1"
   ]
  },
  {
   "cell_type": "markdown",
   "id": "73960341-3d1f-438a-9c7d-31b008364773",
   "metadata": {},
   "source": [
    "## Nested list"
   ]
  },
  {
   "cell_type": "code",
   "execution_count": 1,
   "id": "c09cef6e-9148-44d1-a3fe-b569fe8a8812",
   "metadata": {},
   "outputs": [],
   "source": [
    "lst_1=[1,2,3]\n",
    "lst_2=[4,5,6]\n",
    "lst_3=[7,8,9]"
   ]
  },
  {
   "cell_type": "code",
   "execution_count": 2,
   "id": "6f2ad31a-b538-4bc3-b4f9-277e16abd00e",
   "metadata": {},
   "outputs": [],
   "source": [
    "matrix=[lst_1,lst_2,lst_3]"
   ]
  },
  {
   "cell_type": "code",
   "execution_count": 3,
   "id": "ca3f5680-d2be-47e3-a7c4-521a07aaefc8",
   "metadata": {},
   "outputs": [
    {
     "data": {
      "text/plain": [
       "[[1, 2, 3], [4, 5, 6], [7, 8, 9]]"
      ]
     },
     "execution_count": 3,
     "metadata": {},
     "output_type": "execute_result"
    }
   ],
   "source": [
    "matrix"
   ]
  },
  {
   "cell_type": "code",
   "execution_count": 4,
   "id": "a7540741-df68-4004-8583-fa6182f8c516",
   "metadata": {},
   "outputs": [
    {
     "data": {
      "text/plain": [
       "[1, 2, 3]"
      ]
     },
     "execution_count": 4,
     "metadata": {},
     "output_type": "execute_result"
    }
   ],
   "source": [
    "matrix[0]"
   ]
  },
  {
   "cell_type": "code",
   "execution_count": 13,
   "id": "0f0f93be-f360-425a-9e6d-b445bee46ed9",
   "metadata": {},
   "outputs": [
    {
     "data": {
      "text/plain": [
       "[4]"
      ]
     },
     "execution_count": 13,
     "metadata": {},
     "output_type": "execute_result"
    }
   ],
   "source": [
    "matrix[1][0:1]"
   ]
  },
  {
   "cell_type": "code",
   "execution_count": 14,
   "id": "9a3a401e-e845-4b99-8c8b-4162a0adc4a1",
   "metadata": {},
   "outputs": [
    {
     "data": {
      "text/plain": [
       "[0, 1, 2, 3, 4, 5, 6, 7, 8, 9, 10, 11, 12, 13, 14, 15, 16, 17, 18, 19]"
      ]
     },
     "execution_count": 14,
     "metadata": {},
     "output_type": "execute_result"
    }
   ],
   "source": [
    "##list comprehension\n",
    "[i for i in range(20)]"
   ]
  },
  {
   "cell_type": "code",
   "execution_count": 17,
   "id": "08d7a8ec-8d31-4203-9791-5afb2abb6937",
   "metadata": {},
   "outputs": [
    {
     "data": {
      "text/plain": [
       "[0,\n",
       " 'odd',\n",
       " 2,\n",
       " 'odd',\n",
       " 4,\n",
       " 'odd',\n",
       " 6,\n",
       " 'odd',\n",
       " 8,\n",
       " 'odd',\n",
       " 10,\n",
       " 'odd',\n",
       " 12,\n",
       " 'odd',\n",
       " 14,\n",
       " 'odd',\n",
       " 16,\n",
       " 'odd',\n",
       " 18,\n",
       " 'odd']"
      ]
     },
     "execution_count": 17,
     "metadata": {},
     "output_type": "execute_result"
    }
   ],
   "source": [
    "[i if i%2==0 else 'odd' for i in range(0,20)]"
   ]
  },
  {
   "cell_type": "code",
   "execution_count": 26,
   "id": "af97e10d-6bbb-4ec7-a0d8-6c109c2084fc",
   "metadata": {},
   "outputs": [],
   "source": [
    "## finding even sum and odd sum\n",
    "lst_1=[5,6,7,8,9,9,9,9]"
   ]
  },
  {
   "cell_type": "code",
   "execution_count": 27,
   "id": "e94a1fb1-e14c-4d04-a997-9951bd93803c",
   "metadata": {},
   "outputs": [
    {
     "data": {
      "text/plain": [
       "[5, 6, 7, 8, 9, 9, 9, 9]"
      ]
     },
     "execution_count": 27,
     "metadata": {},
     "output_type": "execute_result"
    }
   ],
   "source": [
    "lst_1"
   ]
  },
  {
   "cell_type": "code",
   "execution_count": 29,
   "id": "969ecd58-03e5-43a1-a7eb-a35509c86ef7",
   "metadata": {},
   "outputs": [
    {
     "name": "stdout",
     "output_type": "stream",
     "text": [
      "14\n",
      "48\n"
     ]
    }
   ],
   "source": [
    "even_sum=0\n",
    "odd_sum=0\n",
    "for i in lst_1:\n",
    "    if i%2==0:\n",
    "        even_sum+=i\n",
    "    else:\n",
    "        odd_sum+=i\n",
    "print(even_sum)\n",
    "print(odd_sum)\n",
    "                "
   ]
  },
  {
   "cell_type": "code",
   "execution_count": 33,
   "id": "24990805-2e97-41c7-a8d3-6c106e5fafb8",
   "metadata": {},
   "outputs": [],
   "source": [
    "even_sum=sum(num for num in lst_1 if num%2==0)"
   ]
  },
  {
   "cell_type": "code",
   "execution_count": 34,
   "id": "385eaa35-dbcd-4705-8a3b-68cbeaabc58c",
   "metadata": {},
   "outputs": [
    {
     "data": {
      "text/plain": [
       "14"
      ]
     },
     "execution_count": 34,
     "metadata": {},
     "output_type": "execute_result"
    }
   ],
   "source": [
    "even_sum"
   ]
  },
  {
   "cell_type": "code",
   "execution_count": 35,
   "id": "69be0936-7651-4bb4-ad9c-fecd958e102b",
   "metadata": {},
   "outputs": [],
   "source": [
    "odd_sum=sum(num for num in lst_1 if num%2!=0)"
   ]
  },
  {
   "cell_type": "code",
   "execution_count": 36,
   "id": "08c9b83f-c2cc-4d04-9b68-f1b7ab6e7d75",
   "metadata": {},
   "outputs": [
    {
     "data": {
      "text/plain": [
       "48"
      ]
     },
     "execution_count": 36,
     "metadata": {},
     "output_type": "execute_result"
    }
   ],
   "source": [
    "odd_sum"
   ]
  },
  {
   "cell_type": "code",
   "execution_count": 39,
   "id": "36766544-d256-4d98-9918-44111698b2ff",
   "metadata": {},
   "outputs": [
    {
     "data": {
      "text/plain": [
       "[25, 36, 49, 64, 81, 81, 81, 81]"
      ]
     },
     "execution_count": 39,
     "metadata": {},
     "output_type": "execute_result"
    }
   ],
   "source": [
    "[num **2 for num in lst_1]"
   ]
  },
  {
   "cell_type": "code",
   "execution_count": 41,
   "id": "2efc1927-013c-4ed4-bf36-b35e13c24e24",
   "metadata": {},
   "outputs": [],
   "source": [
    "lst_1=[-5,-6,-7,8,9,9,9]"
   ]
  },
  {
   "cell_type": "code",
   "execution_count": 46,
   "id": "9922bb8e-431f-489c-9e5e-a608b8104511",
   "metadata": {},
   "outputs": [
    {
     "data": {
      "text/plain": [
       "[8, 9, 9, 9]"
      ]
     },
     "execution_count": 46,
     "metadata": {},
     "output_type": "execute_result"
    }
   ],
   "source": [
    "[num for num in lst_1 if num>=0]"
   ]
  },
  {
   "cell_type": "code",
   "execution_count": 47,
   "id": "f91c87a2-1d44-4a3a-bc26-76dfa6d7ab5b",
   "metadata": {},
   "outputs": [
    {
     "data": {
      "text/plain": [
       "[-5, -6, -7]"
      ]
     },
     "execution_count": 47,
     "metadata": {},
     "output_type": "execute_result"
    }
   ],
   "source": [
    "[num for num in lst_1 if num<=0]"
   ]
  },
  {
   "cell_type": "code",
   "execution_count": 48,
   "id": "861407af-2065-42b8-908e-bfe3a7a55f25",
   "metadata": {},
   "outputs": [],
   "source": [
    "lst_2=['appleshake','grapes','auto','number']"
   ]
  },
  {
   "cell_type": "code",
   "execution_count": 53,
   "id": "22f0c980-0998-4a16-a616-15705028efcd",
   "metadata": {},
   "outputs": [
    {
     "data": {
      "text/plain": [
       "['a', 'g', 'a', 'n']"
      ]
     },
     "execution_count": 53,
     "metadata": {},
     "output_type": "execute_result"
    }
   ],
   "source": [
    "[word[0] for word in lst_2]"
   ]
  },
  {
   "cell_type": "code",
   "execution_count": 54,
   "id": "c757eba6-6415-4c28-91f1-40fb300147ed",
   "metadata": {},
   "outputs": [],
   "source": [
    "celcius_temperature=[0,10,20,30,40,50]"
   ]
  },
  {
   "cell_type": "code",
   "execution_count": 56,
   "id": "4af0f601-15f4-4c2f-a030-83ee8034e95d",
   "metadata": {},
   "outputs": [
    {
     "data": {
      "text/plain": [
       "[32.0, 50.0, 68.0, 86.0, 104.0, 122.0]"
      ]
     },
     "execution_count": 56,
     "metadata": {},
     "output_type": "execute_result"
    }
   ],
   "source": [
    "[(9/5)*temp+32 for temp in celcius_temperature]"
   ]
  },
  {
   "cell_type": "code",
   "execution_count": 58,
   "id": "37144a86-9a0e-46db-b7b3-ae721367c704",
   "metadata": {},
   "outputs": [],
   "source": [
    "# Example 5: Flatten a list of lists into a single list\n",
    "lists = [[1, 2, 3], [4, 5, 6], [7, 8, 9]]"
   ]
  },
  {
   "cell_type": "code",
   "execution_count": 59,
   "id": "78b63851-3b2e-4996-94e6-2579b87ece14",
   "metadata": {},
   "outputs": [
    {
     "data": {
      "text/plain": [
       "[1, 2, 3, 4, 5, 6, 7, 8, 9]"
      ]
     },
     "execution_count": 59,
     "metadata": {},
     "output_type": "execute_result"
    }
   ],
   "source": [
    "[j for i in lists for j in i]"
   ]
  }
 ],
 "metadata": {
  "kernelspec": {
   "display_name": "Python 3 (ipykernel)",
   "language": "python",
   "name": "python3"
  },
  "language_info": {
   "codemirror_mode": {
    "name": "ipython",
    "version": 3
   },
   "file_extension": ".py",
   "mimetype": "text/x-python",
   "name": "python",
   "nbconvert_exporter": "python",
   "pygments_lexer": "ipython3",
   "version": "3.10.8"
  }
 },
 "nbformat": 4,
 "nbformat_minor": 5
}
