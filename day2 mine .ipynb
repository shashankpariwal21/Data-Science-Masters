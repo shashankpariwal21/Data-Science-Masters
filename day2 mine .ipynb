{
 "cells": [
  {
   "cell_type": "code",
   "execution_count": 6,
   "id": "86d12994-36b4-4fb5-9a18-e4da0365b48a",
   "metadata": {},
   "outputs": [
    {
     "name": "stdout",
     "output_type": "stream",
     "text": [
      "my age is: 19\n"
     ]
    }
   ],
   "source": [
    "age=19\n",
    "print(\"my age is:\",age)"
   ]
  },
  {
   "cell_type": "code",
   "execution_count": 8,
   "id": "203c918c-994d-4244-bfc8-1fcc8994fb9f",
   "metadata": {},
   "outputs": [
    {
     "name": "stdout",
     "output_type": "stream",
     "text": [
      "my age is: 19 \n"
     ]
    }
   ],
   "source": [
    "##f string\n",
    "print(f\"my age is: {age} \")"
   ]
  },
  {
   "cell_type": "code",
   "execution_count": 13,
   "id": "f200bd20-5755-4c2e-94db-3903d8aabed6",
   "metadata": {},
   "outputs": [
    {
     "name": "stdout",
     "output_type": "stream",
     "text": [
      "my name is shashank my age is 19\n"
     ]
    }
   ],
   "source": [
    "##format ()\n",
    "name=\"shashank\" \n",
    "age=19\n",
    "print (\"my name is {} my age is {}\".format(name,age))"
   ]
  },
  {
   "cell_type": "code",
   "execution_count": 14,
   "id": "dcae36a9-6ab6-4fdb-a741-b15faf65e22e",
   "metadata": {},
   "outputs": [
    {
     "name": "stdout",
     "output_type": "stream",
     "text": [
      "my name is 19 my age is shashank\n"
     ]
    }
   ],
   "source": [
    "##order matters is format\n",
    "print (\"my name is {} my age is {}\".format(age,name))"
   ]
  },
  {
   "cell_type": "code",
   "execution_count": 15,
   "id": "f6cb9e30-1e8c-4af4-8316-ff81e0f9fe32",
   "metadata": {},
   "outputs": [
    {
     "name": "stdout",
     "output_type": "stream",
     "text": [
      "my name is shashank my age is 19\n"
     ]
    }
   ],
   "source": [
    "##placeholder\n",
    "print (\"my name is {firstname} my age is {firstage}\".format(firstage=age,firstname=name))"
   ]
  },
  {
   "cell_type": "code",
   "execution_count": 17,
   "id": "c15d14b8-7c18-4f5b-a800-aeaaf9fd19aa",
   "metadata": {},
   "outputs": [
    {
     "name": "stdout",
     "output_type": "stream",
     "text": [
      "my age is 19 and i am pursueing my btech degree with the name of shashank pariwal \n"
     ]
    }
   ],
   "source": [
    "name=\"shashank pariwal\"\n",
    "age=19\n",
    "degree=\"btech\"\n",
    "print(\"my age is {} and i am pursueing my {} degree with the name of {} \".format(age,degree,name)) "
   ]
  },
  {
   "cell_type": "code",
   "execution_count": 21,
   "id": "ce3746f1-419d-4678-947e-12cf447573e2",
   "metadata": {},
   "outputs": [
    {
     "name": "stdout",
     "output_type": "stream",
     "text": [
      "my age is 19 and i am pursueing my btech degree with the name of shashank pariwal\n"
     ]
    }
   ],
   "source": [
    "print(f\"my age is {age} and i am pursueing my {degree} degree with the name of {name}\")"
   ]
  },
  {
   "cell_type": "markdown",
   "id": "bb1dd155-5199-4986-9026-0aae0eb5b714",
   "metadata": {},
   "source": [
    "## Control Flow"
   ]
  },
  {
   "cell_type": "markdown",
   "id": "0c165954-77fd-494b-a8e2-dc52f0fc8fb3",
   "metadata": {},
   "source": [
    " ##decision making"
   ]
  },
  {
   "cell_type": "code",
   "execution_count": 37,
   "id": "2832190e-9ed6-4860-857a-f3366f2730e5",
   "metadata": {},
   "outputs": [
    {
     "name": "stdout",
     "output_type": "stream",
     "text": [
      "you are not eligible to vote\n"
     ]
    }
   ],
   "source": [
    "## if statements\n",
    "age=17\n",
    "if age<18:\n",
    "    print(\"you are not eligible to vote\")\n"
   ]
  },
  {
   "cell_type": "code",
   "execution_count": null,
   "id": "16b9b885-2ec7-4dc9-b70c-134270b2db36",
   "metadata": {},
   "outputs": [],
   "source": [
    "## decision making statements "
   ]
  },
  {
   "cell_type": "code",
   "execution_count": null,
   "id": "7e6782a3-1622-432f-b391-1853464ebbb2",
   "metadata": {},
   "outputs": [],
   "source": [
    "==,<=,>,>="
   ]
  },
  {
   "cell_type": "code",
   "execution_count": 39,
   "id": "4964b4d6-25fe-476b-8610-6a998cd7d592",
   "metadata": {},
   "outputs": [
    {
     "data": {
      "text/plain": [
       "True"
      ]
     },
     "execution_count": 39,
     "metadata": {},
     "output_type": "execute_result"
    }
   ],
   "source": [
    "18<=18"
   ]
  },
  {
   "cell_type": "code",
   "execution_count": 40,
   "id": "af00f088-8e9d-4008-93ac-cb852ccc8b25",
   "metadata": {},
   "outputs": [
    {
     "data": {
      "text/plain": [
       "True"
      ]
     },
     "execution_count": 40,
     "metadata": {},
     "output_type": "execute_result"
    }
   ],
   "source": [
    "17<18"
   ]
  },
  {
   "cell_type": "code",
   "execution_count": 41,
   "id": "e8a8c59e-8f1b-4122-b022-a15d557c14a7",
   "metadata": {},
   "outputs": [
    {
     "data": {
      "text/plain": [
       "False"
      ]
     },
     "execution_count": 41,
     "metadata": {},
     "output_type": "execute_result"
    }
   ],
   "source": [
    "18<17"
   ]
  },
  {
   "cell_type": "code",
   "execution_count": 43,
   "id": "5e3d320f-e303-42f2-a7fe-59aaa03b615c",
   "metadata": {},
   "outputs": [
    {
     "name": "stdin",
     "output_type": "stream",
     "text": [
      "enter your age 19\n"
     ]
    }
   ],
   "source": [
    "age=int(input(\"enter your age\"))"
   ]
  },
  {
   "cell_type": "code",
   "execution_count": 44,
   "id": "2a641aa4-4ce2-4c89-a9fa-47164201353d",
   "metadata": {},
   "outputs": [
    {
     "data": {
      "text/plain": [
       "19"
      ]
     },
     "execution_count": 44,
     "metadata": {},
     "output_type": "execute_result"
    }
   ],
   "source": [
    "age"
   ]
  },
  {
   "cell_type": "code",
   "execution_count": 45,
   "id": "130472fe-f976-4c2e-8d06-9f33e300920d",
   "metadata": {},
   "outputs": [
    {
     "name": "stdin",
     "output_type": "stream",
     "text": [
      "enter you name shashank pariwal\n"
     ]
    }
   ],
   "source": [
    "name=input(\"enter you name\")"
   ]
  },
  {
   "cell_type": "code",
   "execution_count": 46,
   "id": "0b0db78d-2347-4ae5-b469-6a0c48fe759f",
   "metadata": {},
   "outputs": [
    {
     "data": {
      "text/plain": [
       "int"
      ]
     },
     "execution_count": 46,
     "metadata": {},
     "output_type": "execute_result"
    }
   ],
   "source": [
    "type(age)"
   ]
  },
  {
   "cell_type": "code",
   "execution_count": 47,
   "id": "ebb5d92e-6ed9-480f-8c4e-f006017cff16",
   "metadata": {},
   "outputs": [
    {
     "name": "stdin",
     "output_type": "stream",
     "text": [
      "enter your age  30\n"
     ]
    }
   ],
   "source": [
    "age=int(input(\"enter your age \"))"
   ]
  },
  {
   "cell_type": "code",
   "execution_count": 48,
   "id": "cb571bb1-bbb0-4f21-b8fd-09528af9ac9c",
   "metadata": {},
   "outputs": [
    {
     "data": {
      "text/plain": [
       "30"
      ]
     },
     "execution_count": 48,
     "metadata": {},
     "output_type": "execute_result"
    }
   ],
   "source": [
    "age"
   ]
  },
  {
   "cell_type": "code",
   "execution_count": 49,
   "id": "5f4d7f8b-0c30-42ab-a382-109b3832dd5b",
   "metadata": {},
   "outputs": [
    {
     "data": {
      "text/plain": [
       "True"
      ]
     },
     "execution_count": 49,
     "metadata": {},
     "output_type": "execute_result"
    }
   ],
   "source": [
    "30>=18"
   ]
  },
  {
   "cell_type": "code",
   "execution_count": 50,
   "id": "fdef5eb8-e063-49f2-85e5-217889b1e201",
   "metadata": {},
   "outputs": [
    {
     "data": {
      "text/plain": [
       "True"
      ]
     },
     "execution_count": 50,
     "metadata": {},
     "output_type": "execute_result"
    }
   ],
   "source": [
    "30<=45"
   ]
  },
  {
   "cell_type": "code",
   "execution_count": 51,
   "id": "4cee9726-4694-49f9-a9be-f79218f0d843",
   "metadata": {},
   "outputs": [
    {
     "name": "stdout",
     "output_type": "stream",
     "text": [
      "you are young blood\n"
     ]
    }
   ],
   "source": [
    "age=30\n",
    "if age>=18:\n",
    "    print(\"you are young blood\")"
   ]
  },
  {
   "cell_type": "code",
   "execution_count": 52,
   "id": "2d3b3d86-8bba-44de-a988-152de91998a2",
   "metadata": {},
   "outputs": [
    {
     "name": "stdout",
     "output_type": "stream",
     "text": [
      "you are young blood\n"
     ]
    }
   ],
   "source": [
    "age=30\n",
    "if age<=45:\n",
    "    print(\"you are young blood\")"
   ]
  },
  {
   "cell_type": "code",
   "execution_count": 60,
   "id": "b9fc040d-40bd-409b-b04e-e0bb57cf85f6",
   "metadata": {},
   "outputs": [
    {
     "name": "stdin",
     "output_type": "stream",
     "text": [
      "enter the age  17\n"
     ]
    },
    {
     "name": "stdout",
     "output_type": "stream",
     "text": [
      "Thankyou you we will let you know\n"
     ]
    }
   ],
   "source": [
    "##combine form\n",
    "age=int(input(\"enter the age \"))\n",
    "if age>18 and age<45:\n",
    "    print(\"you are young blood\")\n",
    "else:print(\"Thankyou you we will let you know\")"
   ]
  },
  {
   "cell_type": "code",
   "execution_count": 54,
   "id": "ee3b53e5-bb7a-4dc6-95ba-4a204a94e361",
   "metadata": {},
   "outputs": [
    {
     "data": {
      "text/plain": [
       "True"
      ]
     },
     "execution_count": 54,
     "metadata": {},
     "output_type": "execute_result"
    }
   ],
   "source": [
    "22>18"
   ]
  },
  {
   "cell_type": "code",
   "execution_count": null,
   "id": "49e71927-b04a-4bed-87dd-be07229090f0",
   "metadata": {},
   "outputs": [],
   "source": [
    "##tasks\n",
    "product_price=int(input(\"enter the price\"))\n",
    "if product_price<1000:\n",
    "                  print(\"the product price {}\".format(product_price*0.8))\n",
    "else:print(\"the product price {} \".format(product_price*0.7))   \n"
   ]
  },
  {
   "cell_type": "code",
   "execution_count": 1,
   "id": "3a050f31-a578-4ad0-a907-cc449c8ebe2f",
   "metadata": {},
   "outputs": [
    {
     "name": "stdin",
     "output_type": "stream",
     "text": [
      "enter the price 2000\n"
     ]
    },
    {
     "name": "stdout",
     "output_type": "stream",
     "text": [
      "the product price 1400.0\n"
     ]
    }
   ],
   "source": [
    "product_price=int(input(\"enter the price\"))\n",
    "if product_price<1000:\n",
    "                  print(f\"the product price {product_price*0.8}\")\n",
    "else:print(f\"the product price {product_price*0.7}\")   "
   ]
  },
  {
   "cell_type": "code",
   "execution_count": 2,
   "id": "ebcafad2-c06a-4065-bcd6-56aacc1ea0bf",
   "metadata": {},
   "outputs": [
    {
     "name": "stdin",
     "output_type": "stream",
     "text": [
      "enter the price 2999\n"
     ]
    },
    {
     "name": "stdout",
     "output_type": "stream",
     "text": [
      "congratulations\n",
      "the product price is 2099.2999999999997\n"
     ]
    }
   ],
   "source": [
    "product_price=int(input(\"enter the price\"))\n",
    "if product_price>3000:\n",
    "    print(\"the product price is {}\".format(product_price*0.8))\n",
    "elif product_price>=2000 and product_price<=3000:\n",
    "    if product_price==2999:\n",
    "        print(\"congratulations\")\n",
    "    print(\"the product price is {}\".format(product_price*0.7))\n",
    "else:  \n",
    "     print(\"the product price is {}\".format(product_price*0.6))"
   ]
  },
  {
   "cell_type": "code",
   "execution_count": 3,
   "id": "8b14cc6c-db68-4031-a862-59d4ee2f7aea",
   "metadata": {},
   "outputs": [
    {
     "name": "stdin",
     "output_type": "stream",
     "text": [
      "enter the number 1000\n"
     ]
    },
    {
     "name": "stdout",
     "output_type": "stream",
     "text": [
      "go home\n"
     ]
    }
   ],
   "source": [
    "## single statement suits\n",
    "val=int(input(\"enter the number\"))\n",
    "if (val<=999): print(\"given value is less than 999\")\n",
    "else:\n",
    "    print(\"go home\")"
   ]
  },
  {
   "cell_type": "code",
   "execution_count": 2,
   "id": "64d022d4-06c5-471c-a423-944a6956506b",
   "metadata": {},
   "outputs": [
    {
     "name": "stdout",
     "output_type": "stream",
     "text": [
      "1000\n",
      "900\n",
      "800\n",
      "700\n",
      "600\n",
      "500\n",
      "400\n",
      "300\n",
      "200\n",
      "100\n",
      "fill the money in atm\n"
     ]
    }
   ],
   "source": [
    "## while loop\n",
    "total_amount=1000\n",
    "while total_amount!=0:\n",
    "    print(total_amount)\n",
    "    total_amount=total_amount-100\n",
    "else:\n",
    "    print(\"fill the money in atm\")"
   ]
  },
  {
   "cell_type": "code",
   "execution_count": 14,
   "id": "7db48451-67c4-4efa-b3c2-fd79e985f719",
   "metadata": {},
   "outputs": [
    {
     "name": "stdout",
     "output_type": "stream",
     "text": [
      "25\n",
      "26\n",
      "27\n",
      "28\n",
      "29\n",
      "30\n",
      "31\n",
      "32\n",
      "33\n",
      "34\n",
      "35\n",
      "36\n",
      "37\n",
      "38\n",
      "39\n",
      "40\n",
      "41\n",
      "42\n",
      "43\n",
      "44\n",
      "45\n",
      "46\n",
      "47\n",
      "48\n",
      "49\n",
      "50\n",
      "51\n",
      "52\n",
      "53\n",
      "54\n",
      "55\n",
      "56\n",
      "57\n",
      "58\n",
      "59\n",
      "60\n"
     ]
    }
   ],
   "source": [
    "joining_age=25\n",
    "while joining_age<=60:\n",
    "    print(joining_age)\n",
    "    joining_age=joining_age+1\n",
    "\n",
    "   "
   ]
  },
  {
   "cell_type": "markdown",
   "id": "a965cb33-1027-4cba-b120-cd8b95784f16",
   "metadata": {},
   "source": [
    "## for loop"
   ]
  },
  {
   "cell_type": "code",
   "execution_count": 17,
   "id": "bdcd5933-dcdc-4628-b36b-e953c3e45c90",
   "metadata": {},
   "outputs": [],
   "source": [
    "lst=['shashank',1,2,3,4,'dragonfruit','grapes']"
   ]
  },
  {
   "cell_type": "code",
   "execution_count": 18,
   "id": "71599b98-623e-429c-8cf7-77db22ad3c67",
   "metadata": {},
   "outputs": [
    {
     "data": {
      "text/plain": [
       "list"
      ]
     },
     "execution_count": 18,
     "metadata": {},
     "output_type": "execute_result"
    }
   ],
   "source": [
    "type(lst)"
   ]
  },
  {
   "cell_type": "code",
   "execution_count": 22,
   "id": "0f5d1487-920d-4507-86c8-f7274c25366a",
   "metadata": {},
   "outputs": [
    {
     "data": {
      "text/plain": [
       "'grapes'"
      ]
     },
     "execution_count": 22,
     "metadata": {},
     "output_type": "execute_result"
    }
   ],
   "source": [
    "lst[6]"
   ]
  },
  {
   "cell_type": "code",
   "execution_count": 24,
   "id": "1d07e005-f723-4a40-89cb-fb513bc24595",
   "metadata": {},
   "outputs": [
    {
     "name": "stdout",
     "output_type": "stream",
     "text": [
      "shashank\n",
      "1\n",
      "2\n",
      "3\n",
      "4\n",
      "dragonfruit\n",
      "grapes\n"
     ]
    }
   ],
   "source": [
    "for x in lst:\n",
    "    print(x)"
   ]
  },
  {
   "cell_type": "code",
   "execution_count": 26,
   "id": "14aa4661-15ac-4053-a3be-f6757d6dd7bf",
   "metadata": {},
   "outputs": [
    {
     "name": "stdout",
     "output_type": "stream",
     "text": [
      "m\n",
      "a\n",
      "n\n",
      "g\n",
      "o\n"
     ]
    }
   ],
   "source": [
    "fruit='mango'\n",
    "for x in fruit:\n",
    "    print(x)"
   ]
  },
  {
   "cell_type": "code",
   "execution_count": 27,
   "id": "6bbb8987-c66d-4de8-a894-3f5d8fea4ff0",
   "metadata": {},
   "outputs": [
    {
     "data": {
      "text/plain": [
       "'a'"
      ]
     },
     "execution_count": 27,
     "metadata": {},
     "output_type": "execute_result"
    }
   ],
   "source": [
    "fruit[1]"
   ]
  },
  {
   "cell_type": "code",
   "execution_count": 28,
   "id": "e3f02358-cdb0-4800-9cc8-8cfec08b7873",
   "metadata": {},
   "outputs": [
    {
     "data": {
      "text/plain": [
       "'g'"
      ]
     },
     "execution_count": 28,
     "metadata": {},
     "output_type": "execute_result"
    }
   ],
   "source": [
    "fruit[3]"
   ]
  },
  {
   "cell_type": "code",
   "execution_count": 32,
   "id": "b6410480-cd4b-49c2-899a-3379719c248e",
   "metadata": {},
   "outputs": [
    {
     "name": "stdout",
     "output_type": "stream",
     "text": [
      "mango"
     ]
    }
   ],
   "source": [
    "fruit='mango'\n",
    "for x in fruit:\n",
    "    print(x,end='')"
   ]
  },
  {
   "cell_type": "markdown",
   "id": "c026d47c-6951-4ba2-9e19-41df864215fe",
   "metadata": {},
   "source": [
    "## nested loops"
   ]
  },
  {
   "cell_type": "code",
   "execution_count": 34,
   "id": "8493a889-fca8-4527-9116-3c5dae4826ae",
   "metadata": {},
   "outputs": [
    {
     "name": "stdout",
     "output_type": "stream",
     "text": [
      "1\n",
      "2\n",
      "3\n",
      "4\n",
      "5\n"
     ]
    }
   ],
   "source": [
    "for i in range(1,6):\n",
    "    print(i)"
   ]
  },
  {
   "cell_type": "code",
   "execution_count": 37,
   "id": "40ef0977-8f56-45db-8e6f-c265b79eeba0",
   "metadata": {},
   "outputs": [
    {
     "name": "stdout",
     "output_type": "stream",
     "text": [
      "1\n",
      "5\n"
     ]
    }
   ],
   "source": [
    "for i in range(1,9,4):\n",
    "    print(i)"
   ]
  },
  {
   "cell_type": "code",
   "execution_count": 42,
   "id": "13e1ec92-d949-49a9-9164-e8ef3cc59894",
   "metadata": {},
   "outputs": [
    {
     "name": "stdout",
     "output_type": "stream",
     "text": [
      "*\n",
      "\n",
      "**\n",
      "\n",
      "***\n",
      "\n",
      "****\n",
      "\n",
      "*****\n",
      "\n",
      "******\n",
      "\n",
      "*******\n",
      "\n"
     ]
    }
   ],
   "source": [
    "n=7\n",
    "\n",
    "for i in range(0,n):\n",
    "    for j in range(0,i+1):\n",
    "        print(\"*\",end='')\n",
    "    print(\"\\n\")\n"
   ]
  },
  {
   "cell_type": "code",
   "execution_count": 43,
   "id": "ab782b93-2e22-42c2-96a4-ebc91a59ea90",
   "metadata": {},
   "outputs": [
    {
     "name": "stdout",
     "output_type": "stream",
     "text": [
      "1\n",
      "3\n",
      "5\n",
      "7\n"
     ]
    }
   ],
   "source": [
    "for i in range(1,9,2):\n",
    "    print(i)"
   ]
  },
  {
   "cell_type": "code",
   "execution_count": 52,
   "id": "90886c13-7f7a-4bd4-99f2-61ac4db7308c",
   "metadata": {},
   "outputs": [
    {
     "name": "stdout",
     "output_type": "stream",
     "text": [
      "*\n",
      "**\n",
      "***\n",
      "****\n",
      "*****\n"
     ]
    }
   ],
   "source": [
    "n=5\n",
    "\n",
    "for i in range(0,n):\n",
    "    for j in range(0,i+1):\n",
    "        print(\"*\",end=\"\")\n",
    "    print(\"\\r\")"
   ]
  },
  {
   "cell_type": "code",
   "execution_count": 67,
   "id": "ffa4baae-9e2f-4afd-878b-474e2abb7abd",
   "metadata": {},
   "outputs": [],
   "source": [
    "## loops control\n",
    "## break and continue\n",
    "fruits_list = [\"apple\",\"bannana\",\"grapes\",\"lichi\"]"
   ]
  },
  {
   "cell_type": "code",
   "execution_count": 71,
   "id": "3b2b3e4e-c372-4ec9-8c4d-d894c0a0b5c0",
   "metadata": {},
   "outputs": [
    {
     "name": "stdout",
     "output_type": "stream",
     "text": [
      "apple\n",
      "bannana\n",
      "fruit is grapes\n"
     ]
    }
   ],
   "source": [
    "for i in fruits_list:\n",
    "    if i==\"grapes\":\n",
    "        print(\"fruit is grapes\")\n",
    "        break\n",
    "    print(i)\n",
    "        "
   ]
  },
  {
   "cell_type": "code",
   "execution_count": 72,
   "id": "b3c098be-3952-4e56-9dc2-1d880ac8e6a6",
   "metadata": {},
   "outputs": [
    {
     "name": "stdout",
     "output_type": "stream",
     "text": [
      "apple\n",
      "bannana\n",
      "fruit is grapes\n",
      "lichi\n"
     ]
    }
   ],
   "source": [
    "for i in fruits_list:\n",
    "    if i==\"grapes\":\n",
    "        print(\"fruit is grapes\")\n",
    "        continue\n",
    "    print(i)"
   ]
  },
  {
   "cell_type": "code",
   "execution_count": 73,
   "id": "2f9df826-9a8c-4029-9427-dc4506a82c8f",
   "metadata": {},
   "outputs": [
    {
     "name": "stdout",
     "output_type": "stream",
     "text": [
      "apple\n",
      "bannana\n",
      "fruit is grapes\n",
      "grapes\n",
      "lichi\n"
     ]
    }
   ],
   "source": [
    "for i in fruits_list:\n",
    "    if i==\"grapes\":\n",
    "        print(\"fruit is grapes\")\n",
    "        pass\n",
    "    print(i)"
   ]
  },
  {
   "cell_type": "code",
   "execution_count": null,
   "id": "a8e58fa2-b6ea-4b77-b4e6-d7c92c2558fb",
   "metadata": {},
   "outputs": [],
   "source": []
  }
 ],
 "metadata": {
  "kernelspec": {
   "display_name": "Python 3 (ipykernel)",
   "language": "python",
   "name": "python3"
  },
  "language_info": {
   "codemirror_mode": {
    "name": "ipython",
    "version": 3
   },
   "file_extension": ".py",
   "mimetype": "text/x-python",
   "name": "python",
   "nbconvert_exporter": "python",
   "pygments_lexer": "ipython3",
   "version": "3.10.8"
  }
 },
 "nbformat": 4,
 "nbformat_minor": 5
}
