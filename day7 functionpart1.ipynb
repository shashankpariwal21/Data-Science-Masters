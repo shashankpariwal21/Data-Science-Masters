{
 "cells": [
  {
   "cell_type": "code",
   "execution_count": 1,
   "id": "d8e636ae-989d-4342-b5a3-d8a0c82a4622",
   "metadata": {},
   "outputs": [],
   "source": [
    "def test():\n",
    "    print (1,2,3,4,5)"
   ]
  },
  {
   "cell_type": "code",
   "execution_count": 2,
   "id": "c6e687ae-8c7b-4801-a697-b4d9644e3501",
   "metadata": {},
   "outputs": [
    {
     "name": "stdout",
     "output_type": "stream",
     "text": [
      "1 2 3 4 5\n"
     ]
    }
   ],
   "source": [
    "test()"
   ]
  },
  {
   "cell_type": "code",
   "execution_count": 3,
   "id": "8663c2b6-d740-4fc0-958a-19e4a00fc57a",
   "metadata": {},
   "outputs": [
    {
     "name": "stdout",
     "output_type": "stream",
     "text": [
      "1 2 3 4 5\n"
     ]
    },
    {
     "ename": "TypeError",
     "evalue": "unsupported operand type(s) for +: 'NoneType' and 'int'",
     "output_type": "error",
     "traceback": [
      "\u001b[0;31m---------------------------------------------------------------------------\u001b[0m",
      "\u001b[0;31mTypeError\u001b[0m                                 Traceback (most recent call last)",
      "Cell \u001b[0;32mIn[3], line 1\u001b[0m\n\u001b[0;32m----> 1\u001b[0m \u001b[43mtest\u001b[49m\u001b[43m(\u001b[49m\u001b[43m)\u001b[49m\u001b[38;5;241;43m+\u001b[39;49m\u001b[38;5;241;43m1\u001b[39;49m,\u001b[38;5;241m2\u001b[39m\n",
      "\u001b[0;31mTypeError\u001b[0m: unsupported operand type(s) for +: 'NoneType' and 'int'"
     ]
    }
   ],
   "source": [
    "test()+1,2\n",
    "#PRINT function is a nonetype function in which we cant ADD ANY primitive function after"
   ]
  },
  {
   "cell_type": "code",
   "execution_count": 8,
   "id": "97c2ad8c-8973-485a-b0a5-c5662c459ccd",
   "metadata": {},
   "outputs": [],
   "source": [
    "def test10():\n",
    "    return \"shashank\"\n",
    "#RETURN function is a non nonetype function "
   ]
  },
  {
   "cell_type": "code",
   "execution_count": 12,
   "id": "6d0565a7-b007-4ebb-b093-2e1511f93924",
   "metadata": {},
   "outputs": [
    {
     "data": {
      "text/plain": [
       "'shashank'"
      ]
     },
     "execution_count": 12,
     "metadata": {},
     "output_type": "execute_result"
    }
   ],
   "source": [
    "test10()"
   ]
  },
  {
   "cell_type": "code",
   "execution_count": 18,
   "id": "7c2513a9-e63e-433c-abbd-ef2b5ab6a8ea",
   "metadata": {},
   "outputs": [
    {
     "data": {
      "text/plain": [
       "('shashankshashank', 123, 2, 3, 4)"
      ]
     },
     "execution_count": 18,
     "metadata": {},
     "output_type": "execute_result"
    }
   ],
   "source": [
    "test10()+ \"shashank\",123,2,3,4,"
   ]
  },
  {
   "cell_type": "code",
   "execution_count": 19,
   "id": "743ee9af-e674-4f42-b9c2-b5d5e076f736",
   "metadata": {},
   "outputs": [
    {
     "data": {
      "text/plain": [
       "'s'"
      ]
     },
     "execution_count": 19,
     "metadata": {},
     "output_type": "execute_result"
    }
   ],
   "source": [
    "test10()[0]"
   ]
  },
  {
   "cell_type": "code",
   "execution_count": 22,
   "id": "50fb1fa9-c519-4a6c-9c28-67e95fc086e6",
   "metadata": {},
   "outputs": [
    {
     "data": {
      "text/plain": [
       "'k'"
      ]
     },
     "execution_count": 22,
     "metadata": {},
     "output_type": "execute_result"
    }
   ],
   "source": [
    "test10()[7]"
   ]
  },
  {
   "cell_type": "code",
   "execution_count": 24,
   "id": "dc60c19a-20f8-4423-b212-0868758536dd",
   "metadata": {},
   "outputs": [],
   "source": [
    "a,b,c=7,8,9"
   ]
  },
  {
   "cell_type": "code",
   "execution_count": 27,
   "id": "09b014e4-79bb-4662-a522-582d21ce05a1",
   "metadata": {},
   "outputs": [],
   "source": [
    "a,b,c,d,e,f,g,h=test10()"
   ]
  },
  {
   "cell_type": "code",
   "execution_count": 28,
   "id": "6efa86d1-7835-43eb-be58-21e63174093e",
   "metadata": {},
   "outputs": [
    {
     "data": {
      "text/plain": [
       "'s'"
      ]
     },
     "execution_count": 28,
     "metadata": {},
     "output_type": "execute_result"
    }
   ],
   "source": [
    "a"
   ]
  },
  {
   "cell_type": "code",
   "execution_count": 29,
   "id": "6b6eb4ff-b16d-43fa-bf24-0275204800f5",
   "metadata": {},
   "outputs": [
    {
     "data": {
      "text/plain": [
       "'h'"
      ]
     },
     "execution_count": 29,
     "metadata": {},
     "output_type": "execute_result"
    }
   ],
   "source": [
    "b"
   ]
  },
  {
   "cell_type": "code",
   "execution_count": 30,
   "id": "e42b6b65-43a2-4f2d-abf5-d330d66693d1",
   "metadata": {},
   "outputs": [
    {
     "data": {
      "text/plain": [
       "'a'"
      ]
     },
     "execution_count": 30,
     "metadata": {},
     "output_type": "execute_result"
    }
   ],
   "source": [
    "c"
   ]
  },
  {
   "cell_type": "code",
   "execution_count": 31,
   "id": "8c1b6e88-d0fb-4364-bf35-0aaebf1d5524",
   "metadata": {},
   "outputs": [
    {
     "data": {
      "text/plain": [
       "'s'"
      ]
     },
     "execution_count": 31,
     "metadata": {},
     "output_type": "execute_result"
    }
   ],
   "source": [
    "d"
   ]
  },
  {
   "cell_type": "code",
   "execution_count": 32,
   "id": "4d3c67ed-c426-420f-bff5-00e73622e804",
   "metadata": {},
   "outputs": [],
   "source": [
    "def test3():\n",
    "    a=3*9+6\n",
    "    return a\n",
    "#it can do the logical term too"
   ]
  },
  {
   "cell_type": "code",
   "execution_count": 34,
   "id": "8ce48367-27e3-4c57-9717-08702187caed",
   "metadata": {},
   "outputs": [
    {
     "data": {
      "text/plain": [
       "33"
      ]
     },
     "execution_count": 34,
     "metadata": {},
     "output_type": "execute_result"
    }
   ],
   "source": [
    "test3()"
   ]
  },
  {
   "cell_type": "code",
   "execution_count": 35,
   "id": "18a5f0ab-78ba-4114-8162-0d477ad645ca",
   "metadata": {},
   "outputs": [
    {
     "data": {
      "text/plain": [
       "int"
      ]
     },
     "execution_count": 35,
     "metadata": {},
     "output_type": "execute_result"
    }
   ],
   "source": [
    "type(test3())"
   ]
  },
  {
   "cell_type": "code",
   "execution_count": 40,
   "id": "cfe22dbb-d909-42d3-9821-1d1b1c754379",
   "metadata": {},
   "outputs": [],
   "source": [
    "def test7(a,b):\n",
    "    c=a*b+3\n",
    "    return c\n",
    "#can learn and put the data too"
   ]
  },
  {
   "cell_type": "code",
   "execution_count": 41,
   "id": "c2da0573-8ac5-4350-a9a6-165b29daecef",
   "metadata": {},
   "outputs": [
    {
     "data": {
      "text/plain": [
       "3"
      ]
     },
     "execution_count": 41,
     "metadata": {},
     "output_type": "execute_result"
    }
   ],
   "source": [
    "test7(9,0)"
   ]
  },
  {
   "cell_type": "code",
   "execution_count": 49,
   "id": "5ee0bd14-6360-459c-a278-0ce071c70c8d",
   "metadata": {},
   "outputs": [],
   "source": [
    "def test4(a,b):\n",
    "    c=a+b\n",
    "    return c"
   ]
  },
  {
   "cell_type": "code",
   "execution_count": 44,
   "id": "5d454ade-c8d1-430b-8861-2781906c5741",
   "metadata": {},
   "outputs": [
    {
     "data": {
      "text/plain": [
       "'shashankpariwal'"
      ]
     },
     "execution_count": 44,
     "metadata": {},
     "output_type": "execute_result"
    }
   ],
   "source": [
    "test4('shashank','pariwal')"
   ]
  },
  {
   "cell_type": "code",
   "execution_count": 50,
   "id": "134c6b49-3e95-4928-9f81-f5fb627d97b0",
   "metadata": {},
   "outputs": [
    {
     "data": {
      "text/plain": [
       "'shashankpariwal'"
      ]
     },
     "execution_count": 50,
     "metadata": {},
     "output_type": "execute_result"
    }
   ],
   "source": [
    "test4(b='pariwal',a='shashank')"
   ]
  },
  {
   "cell_type": "code",
   "execution_count": 91,
   "id": "c4f55220-fa6f-4e4b-9f26-81bc0ca45307",
   "metadata": {},
   "outputs": [],
   "source": [
    "l=[1,2,3,'shashank',['s',4,5]]"
   ]
  },
  {
   "cell_type": "code",
   "execution_count": 92,
   "id": "203dbcb2-07d8-4a10-968b-43f1368b5e0c",
   "metadata": {},
   "outputs": [],
   "source": [
    "l2=[1,2,3,4,'shashank',[1,2,3]]"
   ]
  },
  {
   "cell_type": "code",
   "execution_count": 93,
   "id": "9b84f64a-78c5-4739-a969-5c945ddb425f",
   "metadata": {},
   "outputs": [
    {
     "data": {
      "text/plain": [
       "[1, 2, 3, 4, 'shashank', [1, 2, 3]]"
      ]
     },
     "execution_count": 93,
     "metadata": {},
     "output_type": "execute_result"
    }
   ],
   "source": [
    "l2"
   ]
  },
  {
   "cell_type": "code",
   "execution_count": 94,
   "id": "8db78ade-888b-4515-9e93-8257c9250ddf",
   "metadata": {},
   "outputs": [],
   "source": [
    "def test1(a):\n",
    "    n = []\n",
    "    for i in a :\n",
    "        if type(i) == int or type(i) == float :\n",
    "            n.append(i)\n",
    "            return n\n",
    "            "
   ]
  },
  {
   "cell_type": "code",
   "execution_count": 95,
   "id": "fe445cd2-e17c-4cd9-9cce-47622323a300",
   "metadata": {},
   "outputs": [
    {
     "data": {
      "text/plain": [
       "[1]"
      ]
     },
     "execution_count": 95,
     "metadata": {},
     "output_type": "execute_result"
    }
   ],
   "source": [
    "test1(l2)"
   ]
  },
  {
   "cell_type": "code",
   "execution_count": 96,
   "id": "85738f38-49ce-414e-8f0a-70566ce8ef52",
   "metadata": {},
   "outputs": [],
   "source": [
    "l2=[1,2,3,4,'shashank',[1,2,3]]"
   ]
  },
  {
   "cell_type": "code",
   "execution_count": 97,
   "id": "c2a3d342-90d0-4204-85fb-6454fec8966a",
   "metadata": {},
   "outputs": [],
   "source": [
    "def test6(a):\n",
    "    n  = []\n",
    "    for i in a :\n",
    "        if type(i) == int or type(i) == float :\n",
    "            n.append(i)\n",
    "    return n"
   ]
  },
  {
   "cell_type": "code",
   "execution_count": 98,
   "id": "ada4da58-7575-442e-a162-d0be148640aa",
   "metadata": {},
   "outputs": [
    {
     "data": {
      "text/plain": [
       "[1, 2, 3, 4]"
      ]
     },
     "execution_count": 98,
     "metadata": {},
     "output_type": "execute_result"
    }
   ],
   "source": [
    "test6(l2)"
   ]
  },
  {
   "cell_type": "code",
   "execution_count": 78,
   "id": "eeea49ad-70a5-4d09-8010-7d0416eceb4d",
   "metadata": {},
   "outputs": [
    {
     "data": {
      "text/plain": [
       "[1, 2, 3, 'shashank', ['s', 4, 5]]"
      ]
     },
     "execution_count": 78,
     "metadata": {},
     "output_type": "execute_result"
    }
   ],
   "source": [
    "l"
   ]
  },
  {
   "cell_type": "code",
   "execution_count": 103,
   "id": "585bac9d-f0a8-46de-a26a-13c78005e10e",
   "metadata": {},
   "outputs": [],
   "source": [
    "def test14(a):\n",
    "    n=[]\n",
    "    for i in a:\n",
    "        if type(i)==list:\n",
    "            for j in i:\n",
    "                if type(j)==int or type(j)==float:\n",
    "                    n.append(j)\n",
    "        else:\n",
    "            if type(i)== int or type(i) == float :\n",
    "                n.append(i)\n",
    "                return n\n",
    "               \n",
    "                    \n"
   ]
  },
  {
   "cell_type": "code",
   "execution_count": 104,
   "id": "a522a990-59c9-4a49-ae51-4b308bcca612",
   "metadata": {},
   "outputs": [
    {
     "data": {
      "text/plain": [
       "[1]"
      ]
     },
     "execution_count": 104,
     "metadata": {},
     "output_type": "execute_result"
    }
   ],
   "source": [
    "test9(l2)"
   ]
  },
  {
   "cell_type": "code",
   "execution_count": 101,
   "id": "34a29e6b-7546-455b-89e4-f273e0e9bd5f",
   "metadata": {},
   "outputs": [],
   "source": [
    "def test7(a) : \n",
    "    n = []\n",
    "    for i in a :\n",
    "        if type(i) == list :\n",
    "            for j in i :\n",
    "                if type(j) == int or type(j) == float :\n",
    "                    n.append(j)\n",
    "        else :\n",
    "            if type(i) == int or type(i) == float :\n",
    "                n.append(i)\n",
    "    return n"
   ]
  },
  {
   "cell_type": "code",
   "execution_count": 102,
   "id": "233c73dc-616a-432b-9249-f025abdb20b2",
   "metadata": {},
   "outputs": [
    {
     "data": {
      "text/plain": [
       "[1, 2, 3, 4, 1, 2, 3]"
      ]
     },
     "execution_count": 102,
     "metadata": {},
     "output_type": "execute_result"
    }
   ],
   "source": [
    "test7(l2)"
   ]
  },
  {
   "cell_type": "code",
   "execution_count": null,
   "id": "65a53dc7-47c2-4e37-8a44-d5388f6ed6ab",
   "metadata": {},
   "outputs": [],
   "source": []
  }
 ],
 "metadata": {
  "kernelspec": {
   "display_name": "Python 3 (ipykernel)",
   "language": "python",
   "name": "python3"
  },
  "language_info": {
   "codemirror_mode": {
    "name": "ipython",
    "version": 3
   },
   "file_extension": ".py",
   "mimetype": "text/x-python",
   "name": "python",
   "nbconvert_exporter": "python",
   "pygments_lexer": "ipython3",
   "version": "3.10.8"
  }
 },
 "nbformat": 4,
 "nbformat_minor": 5
}
