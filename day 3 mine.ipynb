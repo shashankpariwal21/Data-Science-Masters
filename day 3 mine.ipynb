{
 "cells": [
  {
   "cell_type": "markdown",
   "id": "8ac2517f-b166-4686-94cd-f738cd79e790",
   "metadata": {},
   "source": [
    "## logical operators "
   ]
  },
  {
   "cell_type": "markdown",
   "id": "f7500e13-04b9-4e98-9d9e-fdbe5e127d5e",
   "metadata": {},
   "source": [
    "## 1.and\n",
    "## 2.or\n",
    "## 3.not"
   ]
  },
  {
   "cell_type": "code",
   "execution_count": 1,
   "id": "e28936b3-df73-4875-ad18-ee443646d40e",
   "metadata": {},
   "outputs": [
    {
     "data": {
      "text/plain": [
       "False"
      ]
     },
     "execution_count": 1,
     "metadata": {},
     "output_type": "execute_result"
    }
   ],
   "source": [
    "True and False"
   ]
  },
  {
   "cell_type": "code",
   "execution_count": 2,
   "id": "3551a840-c352-445e-b9ab-980f75c7aa49",
   "metadata": {},
   "outputs": [
    {
     "data": {
      "text/plain": [
       "True"
      ]
     },
     "execution_count": 2,
     "metadata": {},
     "output_type": "execute_result"
    }
   ],
   "source": [
    "True or False"
   ]
  },
  {
   "cell_type": "code",
   "execution_count": 3,
   "id": "f6e18bb0-48bb-46d0-96c0-10637b736c49",
   "metadata": {},
   "outputs": [
    {
     "name": "stdout",
     "output_type": "stream",
     "text": [
      "Defined value of START = True\n",
      "Defined value of STOP = False \n",
      "\n",
      "Defined value of START = True\n",
      "Value of STOP by negating START= False \n",
      "\n",
      "Value of START by negating STOP = True\n",
      "Defined value of STOP = False \n",
      "\n"
     ]
    }
   ],
   "source": [
    "# Lets define two variables having boolean values True and False-\n",
    "START = True\n",
    "STOP = False\n",
    "\n",
    "# Print the values as it is\n",
    "print(f\"Defined value of START = {START}\")\n",
    "print(f\"Defined value of STOP = {STOP} \\n\")\n",
    "\n",
    "# if can also be written as - \n",
    "print(f\"Defined value of START = {START}\")\n",
    "print(f\"Value of STOP by negating START= {not START} \\n\")\n",
    "\n",
    "# alternatively -\n",
    "print(f\"Value of START by negating STOP = {not STOP}\")\n",
    "print(f\"Defined value of STOP = {STOP} \\n\")"
   ]
  },
  {
   "cell_type": "code",
   "execution_count": 4,
   "id": "b8afdf68-3734-4d11-9e56-5679ed16067c",
   "metadata": {},
   "outputs": [
    {
     "data": {
      "text/plain": [
       "False"
      ]
     },
     "execution_count": 4,
     "metadata": {},
     "output_type": "execute_result"
    }
   ],
   "source": [
    "not True"
   ]
  },
  {
   "cell_type": "code",
   "execution_count": 5,
   "id": "75ef6ad0-e25c-4de1-a5d4-93194c993c42",
   "metadata": {},
   "outputs": [
    {
     "data": {
      "text/plain": [
       "True"
      ]
     },
     "execution_count": 5,
     "metadata": {},
     "output_type": "execute_result"
    }
   ],
   "source": [
    "not False"
   ]
  },
  {
   "cell_type": "code",
   "execution_count": 6,
   "id": "f219019b-f214-444f-8285-7d26e81d2bfc",
   "metadata": {},
   "outputs": [
    {
     "data": {
      "text/plain": [
       "False"
      ]
     },
     "execution_count": 6,
     "metadata": {},
     "output_type": "execute_result"
    }
   ],
   "source": [
    "not 1"
   ]
  },
  {
   "cell_type": "code",
   "execution_count": 7,
   "id": "129d5a06-9209-4daa-bf54-aa2c22c9aedd",
   "metadata": {},
   "outputs": [
    {
     "data": {
      "text/plain": [
       "True"
      ]
     },
     "execution_count": 7,
     "metadata": {},
     "output_type": "execute_result"
    }
   ],
   "source": [
    "not 0"
   ]
  },
  {
   "cell_type": "code",
   "execution_count": 9,
   "id": "7d8637d0-2b65-432c-8e03-1d066f5faf00",
   "metadata": {},
   "outputs": [
    {
     "data": {
      "text/plain": [
       "True"
      ]
     },
     "execution_count": 9,
     "metadata": {},
     "output_type": "execute_result"
    }
   ],
   "source": [
    " not int(bool(0))"
   ]
  },
  {
   "cell_type": "code",
   "execution_count": 10,
   "id": "ba4e7f2e-4741-447b-abfe-58e59386c1cf",
   "metadata": {},
   "outputs": [
    {
     "data": {
      "text/plain": [
       "False"
      ]
     },
     "execution_count": 10,
     "metadata": {},
     "output_type": "execute_result"
    }
   ],
   "source": [
    "not int (bool(1))"
   ]
  },
  {
   "cell_type": "code",
   "execution_count": null,
   "id": "756a3ee7-6814-4d1d-91cc-8c651918d9c0",
   "metadata": {},
   "outputs": [],
   "source": [
    "START = 1\n",
    "STOP = 0\n",
    "\n",
    "# Print the values as it is\n",
    "print(f\"Defined value of START = {START}\")\n",
    "print(f\"Defined value of STOP = {STOP} \\n\")\n",
    "\n",
    "# if can also be written as - \n",
    "print(f\"Defined value of START = {START}\")\n",
    "print(f\"Value of STOP by negating START= {int(not START)} \\n\")\n",
    "\n",
    "# alternatively -\n",
    "print(f\"Value of START by negating STOP = {int(not STOP)}\")\n",
    "print(f\"Defined value of STOP = {STOP} \\n\")"
   ]
  },
  {
   "cell_type": "code",
   "execution_count": 11,
   "id": "657bd7a9-a273-4351-8634-022ba42ebf9e",
   "metadata": {},
   "outputs": [
    {
     "data": {
      "text/plain": [
       "False"
      ]
     },
     "execution_count": 11,
     "metadata": {},
     "output_type": "execute_result"
    }
   ],
   "source": [
    "bool (0)"
   ]
  },
  {
   "cell_type": "code",
   "execution_count": 13,
   "id": "56b74f9f-93eb-4a73-a0cc-b9c59e44c19e",
   "metadata": {},
   "outputs": [
    {
     "name": "stdout",
     "output_type": "stream",
     "text": [
      "boolean value of no. 0 is False\n",
      "boolean value of no. 1 is True\n",
      "negation of 0 is True and negation of 1 is False\n"
     ]
    }
   ],
   "source": [
    "## example \n",
    "zero = 0\n",
    "one = 1\n",
    "\n",
    "print(f\"boolean value of no. {zero} is {bool(zero)}\")\n",
    "print(f\"boolean value of no. {one} is {bool(one)}\")\n",
    "print(f\"negation of {zero} is {not zero} and negation of {one} is {not one}\")\n"
   ]
  },
  {
   "cell_type": "code",
   "execution_count": 14,
   "id": "08a7202c-4183-45dc-8e0b-5af8cca13b36",
   "metadata": {},
   "outputs": [
    {
     "name": "stdout",
     "output_type": "stream",
     "text": [
      "boolean value of no. -5 is True\n",
      "boolean value of no. 5 is True\n",
      "negation of -5 is False and negation of 5 is False\n"
     ]
    }
   ],
   "source": [
    "Some_negative_integer = -5\n",
    "Some_positive_integer = 5\n",
    "\n",
    "print(f\"boolean value of no. {Some_negative_integer} is {bool(Some_negative_integer)}\")\n",
    "print(f\"boolean value of no. {Some_positive_integer} is {bool(Some_positive_integer)}\")\n",
    "print(f\"negation of {Some_negative_integer} is {not Some_negative_integer} \\\n",
    "and negation of {Some_positive_integer} is {not Some_positive_integer}\")"
   ]
  },
  {
   "cell_type": "markdown",
   "id": "e6f16bd2-f80c-4673-bec7-c26de1ef8d6a",
   "metadata": {},
   "source": [
    "### 4.1.2 Equality Operators\n",
    "\n",
    "Following operations are present in python for equlity check operation-\n",
    "\n",
    "|Operators|Meaning|\n",
    "|-|-|\n",
    "|**is**|***a is b*** returns true if variable/identifiers a and b *points* to the *same object*|\n",
    "|**is not**|***a is not b*** returns true if variable/identifiers a and b *points* to the *different object*|\n",
    "|**==**|***a == b*** returns true if variable/identifiers a and b has same value|\n",
    "|**!=**|***a != b*** returns true if variable/identifiers a and b has different value|"
   ]
  },
  {
   "cell_type": "code",
   "execution_count": 1,
   "id": "4c062d97-68d1-4971-aee4-3e61fe41ccb6",
   "metadata": {},
   "outputs": [],
   "source": [
    "## is\n",
    "lst_a=[1,2,3,4]\n",
    "lst_b=[5,6,7,8]"
   ]
  },
  {
   "cell_type": "code",
   "execution_count": 3,
   "id": "6a186b96-17ac-47c6-9af6-08a17caedd00",
   "metadata": {},
   "outputs": [
    {
     "name": "stdout",
     "output_type": "stream",
     "text": [
      "139738874096128\n",
      "139738874095872\n"
     ]
    }
   ],
   "source": [
    "print(id(lst_a))\n",
    "print(id(lst_b))"
   ]
  },
  {
   "cell_type": "code",
   "execution_count": 4,
   "id": "00a50cae-0c68-490f-b2fe-aa667ed3b6ba",
   "metadata": {},
   "outputs": [
    {
     "data": {
      "text/plain": [
       "False"
      ]
     },
     "execution_count": 4,
     "metadata": {},
     "output_type": "execute_result"
    }
   ],
   "source": [
    "lst_a is lst_b"
   ]
  },
  {
   "cell_type": "code",
   "execution_count": 11,
   "id": "7f8b3dbc-be48-40da-adc8-7a7742443f07",
   "metadata": {},
   "outputs": [],
   "source": [
    "lst_c=[1,2,3,4]\n",
    "lst_d=lst_c"
   ]
  },
  {
   "cell_type": "code",
   "execution_count": 12,
   "id": "733fa025-831c-4ad5-aa88-a4f5cf45dea9",
   "metadata": {},
   "outputs": [
    {
     "name": "stdout",
     "output_type": "stream",
     "text": [
      "139738861703744\n",
      "139738861703744\n"
     ]
    }
   ],
   "source": [
    "print(id(lst_c))\n",
    "print(id(lst_d))"
   ]
  },
  {
   "cell_type": "code",
   "execution_count": 13,
   "id": "549537b2-baf6-4f7f-838b-2fd0c88b0794",
   "metadata": {},
   "outputs": [
    {
     "data": {
      "text/plain": [
       "True"
      ]
     },
     "execution_count": 13,
     "metadata": {},
     "output_type": "execute_result"
    }
   ],
   "source": [
    "lst_c is lst_d"
   ]
  },
  {
   "cell_type": "code",
   "execution_count": 14,
   "id": "66010472-41ae-43ce-a03f-56d5bef8c5b0",
   "metadata": {},
   "outputs": [],
   "source": [
    "## IS NOT\n",
    "lst_a=[1,2,3,4]\n",
    "lst_b=[5,6,7,8]"
   ]
  },
  {
   "cell_type": "code",
   "execution_count": 15,
   "id": "41488f2b-0ff3-42fc-9013-8161af5ea3cb",
   "metadata": {},
   "outputs": [
    {
     "name": "stdout",
     "output_type": "stream",
     "text": [
      "139738861393664\n",
      "139739161728704\n"
     ]
    }
   ],
   "source": [
    "print(id(lst_a))\n",
    "print(id(lst_b))"
   ]
  },
  {
   "cell_type": "code",
   "execution_count": 16,
   "id": "f5bd6738-7e6d-4ffb-912a-f1b4679ab163",
   "metadata": {},
   "outputs": [
    {
     "data": {
      "text/plain": [
       "True"
      ]
     },
     "execution_count": 16,
     "metadata": {},
     "output_type": "execute_result"
    }
   ],
   "source": [
    "lst_a is not lst_b"
   ]
  },
  {
   "cell_type": "code",
   "execution_count": 17,
   "id": "5a6b93db-9997-45d8-a9e8-843d771388db",
   "metadata": {},
   "outputs": [],
   "source": [
    "lst_c=[1,2,3,4]\n",
    "lst_d=lst_c"
   ]
  },
  {
   "cell_type": "code",
   "execution_count": 18,
   "id": "2550f9a7-8d15-40ef-b343-fd2437cffd47",
   "metadata": {},
   "outputs": [
    {
     "name": "stdout",
     "output_type": "stream",
     "text": [
      "139738861663232\n",
      "139738861663232\n"
     ]
    }
   ],
   "source": [
    "print(id(lst_c))\n",
    "print(id(lst_d))"
   ]
  },
  {
   "cell_type": "code",
   "execution_count": 19,
   "id": "235bcd0c-1723-42a2-9379-97f56f3df1f8",
   "metadata": {},
   "outputs": [
    {
     "data": {
      "text/plain": [
       "False"
      ]
     },
     "execution_count": 19,
     "metadata": {},
     "output_type": "execute_result"
    }
   ],
   "source": [
    "lst_c is not lst_d"
   ]
  },
  {
   "cell_type": "code",
   "execution_count": null,
   "id": "0a8ed62d-b1f8-4564-b881-0fdacf9dad2d",
   "metadata": {},
   "outputs": [],
   "source": [
    "## =="
   ]
  },
  {
   "cell_type": "code",
   "execution_count": 20,
   "id": "3b30e7a9-e6fc-43a0-86a2-eaba946c2923",
   "metadata": {},
   "outputs": [],
   "source": [
    "lst_a=[1,2,3,5]\n",
    "lst_b=[1,2,3,5]"
   ]
  },
  {
   "cell_type": "code",
   "execution_count": 21,
   "id": "d238de17-cd54-402b-a6ab-c40d5c6cbf54",
   "metadata": {},
   "outputs": [
    {
     "data": {
      "text/plain": [
       "True"
      ]
     },
     "execution_count": 21,
     "metadata": {},
     "output_type": "execute_result"
    }
   ],
   "source": [
    "lst_a==lst_b"
   ]
  },
  {
   "cell_type": "code",
   "execution_count": 22,
   "id": "c306d630-e4d3-484b-9a7d-d84568ab9dd3",
   "metadata": {},
   "outputs": [],
   "source": [
    "lst_a=[1,2,3,4]\n",
    "lst_b=[1,2,3,5]"
   ]
  },
  {
   "cell_type": "code",
   "execution_count": 23,
   "id": "2a5b1cef-7ef3-4a3b-a382-6ebe5ff3e798",
   "metadata": {},
   "outputs": [
    {
     "data": {
      "text/plain": [
       "False"
      ]
     },
     "execution_count": 23,
     "metadata": {},
     "output_type": "execute_result"
    }
   ],
   "source": [
    "lst_a==lst_b"
   ]
  },
  {
   "cell_type": "code",
   "execution_count": null,
   "id": "8046dbec-0ec7-4ba0-9600-2fd70597b9da",
   "metadata": {},
   "outputs": [],
   "source": [
    "## !=\n",
    "lst_a=[1,2,3,4]\n",
    "lst_b=[1,2,3,5]"
   ]
  },
  {
   "cell_type": "code",
   "execution_count": 24,
   "id": "c684f1c2-33d0-44bd-87cf-f1528f256679",
   "metadata": {},
   "outputs": [
    {
     "data": {
      "text/plain": [
       "True"
      ]
     },
     "execution_count": 24,
     "metadata": {},
     "output_type": "execute_result"
    }
   ],
   "source": [
    "lst_a!=lst_b"
   ]
  },
  {
   "cell_type": "code",
   "execution_count": 25,
   "id": "6b99b342-be09-4b8a-bfc9-6f4654417823",
   "metadata": {},
   "outputs": [],
   "source": [
    "lst_a=[1,2,3,5]\n",
    "lst_b=[1,2,3,5]"
   ]
  },
  {
   "cell_type": "code",
   "execution_count": 26,
   "id": "d64a0f7d-f934-4b06-a7ba-839ea5817965",
   "metadata": {},
   "outputs": [
    {
     "data": {
      "text/plain": [
       "False"
      ]
     },
     "execution_count": 26,
     "metadata": {},
     "output_type": "execute_result"
    }
   ],
   "source": [
    "lst_a!=lst_b"
   ]
  },
  {
   "cell_type": "code",
   "execution_count": 27,
   "id": "aa72814b-dc86-4e44-ace9-a8601fe424a6",
   "metadata": {},
   "outputs": [
    {
     "data": {
      "text/plain": [
       "[1, 2, 3, 5]"
      ]
     },
     "execution_count": 27,
     "metadata": {},
     "output_type": "execute_result"
    }
   ],
   "source": [
    "lst_a"
   ]
  },
  {
   "cell_type": "code",
   "execution_count": 31,
   "id": "489fa22e-2637-4630-8aca-704a69d381fb",
   "metadata": {},
   "outputs": [],
   "source": [
    "lst_a[0]=6"
   ]
  },
  {
   "cell_type": "code",
   "execution_count": 32,
   "id": "0517f0dd-f464-4330-af28-c37af92b34cc",
   "metadata": {},
   "outputs": [
    {
     "data": {
      "text/plain": [
       "[6, 2, 3, 5]"
      ]
     },
     "execution_count": 32,
     "metadata": {},
     "output_type": "execute_result"
    }
   ],
   "source": [
    "## non immutable\n",
    "lst_a"
   ]
  },
  {
   "cell_type": "code",
   "execution_count": 48,
   "id": "b0050f41-05e3-45e6-901e-9f258b0b34d7",
   "metadata": {},
   "outputs": [],
   "source": [
    "str1=\"shashank\"\n",
    "str2=\"pariwal\""
   ]
  },
  {
   "cell_type": "code",
   "execution_count": 47,
   "id": "dfbf593b-1d8a-41cb-9a0a-a8fada21864a",
   "metadata": {},
   "outputs": [
    {
     "data": {
      "text/plain": [
       "'shashank'"
      ]
     },
     "execution_count": 47,
     "metadata": {},
     "output_type": "execute_result"
    }
   ],
   "source": [
    "str1"
   ]
  },
  {
   "cell_type": "code",
   "execution_count": 51,
   "id": "2e1340a0-e5c2-4155-8f50-cf56690f53b7",
   "metadata": {},
   "outputs": [
    {
     "data": {
      "text/plain": [
       "'s'"
      ]
     },
     "execution_count": 51,
     "metadata": {},
     "output_type": "execute_result"
    }
   ],
   "source": [
    "str1[0]"
   ]
  },
  {
   "cell_type": "code",
   "execution_count": 53,
   "id": "761bfa2e-6a2a-4021-9fac-0fd09749ae13",
   "metadata": {},
   "outputs": [
    {
     "ename": "TypeError",
     "evalue": "'str' object does not support item assignment",
     "output_type": "error",
     "traceback": [
      "\u001b[0;31m---------------------------------------------------------------------------\u001b[0m",
      "\u001b[0;31mTypeError\u001b[0m                                 Traceback (most recent call last)",
      "Cell \u001b[0;32mIn[53], line 1\u001b[0m\n\u001b[0;32m----> 1\u001b[0m \u001b[43mstr1\u001b[49m\u001b[43m[\u001b[49m\u001b[38;5;241;43m0\u001b[39;49m\u001b[43m]\u001b[49m\u001b[38;5;241m=\u001b[39m\u001b[38;5;124m'\u001b[39m\u001b[38;5;124mm\u001b[39m\u001b[38;5;124m'\u001b[39m\n",
      "\u001b[0;31mTypeError\u001b[0m: 'str' object does not support item assignment"
     ]
    }
   ],
   "source": [
    "## immutable\n",
    "str1[0]='m' "
   ]
  },
  {
   "cell_type": "markdown",
   "id": "adb87862-cb73-4d08-8bbe-78f8e24de467",
   "metadata": {},
   "source": [
    "## comparable operation\n",
    "\n",
    "|Operation|Meaning|\n",
    "|:-:|:-:|\n",
    "| **<** |less than|\n",
    "| **<=** |less than or equal to|\n",
    "| **>** |greater than|\n",
    "| **>=** |greater than or equal to|\n"
   ]
  },
  {
   "cell_type": "code",
   "execution_count": 62,
   "id": "5dda017c-73bd-428c-a1b9-5048b73048f3",
   "metadata": {},
   "outputs": [
    {
     "name": "stdout",
     "output_type": "stream",
     "text": [
      "motorcycle is faster than car:False\n"
     ]
    }
   ],
   "source": [
    "## example\n",
    "maximum_speed_of_car=200\n",
    "maximum_speed_of_motorcycle=190\n",
    "print(f\"motorcycle is faster than car:{maximum_speed_of_motorcycle>=maximum_speed_of_car}\")"
   ]
  },
  {
   "cell_type": "code",
   "execution_count": 65,
   "id": "1fb261c0-aa32-4d5b-b675-82096ef269ed",
   "metadata": {},
   "outputs": [
    {
     "name": "stdout",
     "output_type": "stream",
     "text": [
      "motorcycle is faster than car:False\n"
     ]
    }
   ],
   "source": [
    "maximum_speed_of_car=400\n",
    "maximum_speed_of_motorcycle=400\n",
    "print(f\"motorcycle is faster than car:{maximum_speed_of_motorcycle>maximum_speed_of_car}\")"
   ]
  },
  {
   "cell_type": "markdown",
   "id": "a8626f32-6a77-42fe-ae48-7a1f4d0c782a",
   "metadata": {},
   "source": [
    "## Arithmetic operations\n",
    "|Operation|Meaning|\n",
    "|:-:|:-:|\n",
    "| **+** |addition|\n",
    "| **-** |subtraction|\n",
    "| **\\*** |multiplication|\n",
    "| **/** |true division|\n",
    "| **//** |integer division|\n",
    "| **%** |the modulo operator|"
   ]
  },
  {
   "cell_type": "code",
   "execution_count": 66,
   "id": "d5b6ea3d-d6c4-42cd-83aa-5c4d526fc88c",
   "metadata": {},
   "outputs": [],
   "source": [
    "a=78\n",
    "b=34"
   ]
  },
  {
   "cell_type": "code",
   "execution_count": 67,
   "id": "783b14a8-339c-4254-8ff9-292961404319",
   "metadata": {},
   "outputs": [
    {
     "data": {
      "text/plain": [
       "112"
      ]
     },
     "execution_count": 67,
     "metadata": {},
     "output_type": "execute_result"
    }
   ],
   "source": [
    "a+b"
   ]
  },
  {
   "cell_type": "code",
   "execution_count": 68,
   "id": "8aebaca7-9c81-447d-9736-ddb8ff85dc96",
   "metadata": {},
   "outputs": [
    {
     "data": {
      "text/plain": [
       "2652"
      ]
     },
     "execution_count": 68,
     "metadata": {},
     "output_type": "execute_result"
    }
   ],
   "source": [
    "a*b"
   ]
  },
  {
   "cell_type": "code",
   "execution_count": 69,
   "id": "7e7279a3-be42-4b20-91d3-5fe757bb999b",
   "metadata": {},
   "outputs": [
    {
     "data": {
      "text/plain": [
       "44"
      ]
     },
     "execution_count": 69,
     "metadata": {},
     "output_type": "execute_result"
    }
   ],
   "source": [
    "a-b"
   ]
  },
  {
   "cell_type": "code",
   "execution_count": 71,
   "id": "a7846f64-5c68-4019-b738-4877c28483ed",
   "metadata": {},
   "outputs": [
    {
     "data": {
      "text/plain": [
       "2.2941176470588234"
      ]
     },
     "execution_count": 71,
     "metadata": {},
     "output_type": "execute_result"
    }
   ],
   "source": [
    "a/b"
   ]
  },
  {
   "cell_type": "code",
   "execution_count": 72,
   "id": "da992ce5-672b-4946-b0a5-852b48df6d26",
   "metadata": {},
   "outputs": [
    {
     "data": {
      "text/plain": [
       "2"
      ]
     },
     "execution_count": 72,
     "metadata": {},
     "output_type": "execute_result"
    }
   ],
   "source": [
    "a//b"
   ]
  },
  {
   "cell_type": "code",
   "execution_count": 73,
   "id": "3b07211d-550a-43de-8e30-874d86a461b6",
   "metadata": {},
   "outputs": [
    {
     "data": {
      "text/plain": [
       "10"
      ]
     },
     "execution_count": 73,
     "metadata": {},
     "output_type": "execute_result"
    }
   ],
   "source": [
    "a%b"
   ]
  },
  {
   "cell_type": "code",
   "execution_count": 75,
   "id": "e2a3857b-71fd-44b6-92ff-e01457e7dd1c",
   "metadata": {},
   "outputs": [
    {
     "data": {
      "text/plain": [
       "92.82051282051282"
      ]
     },
     "execution_count": 75,
     "metadata": {},
     "output_type": "execute_result"
    }
   ],
   "source": [
    "a+b*b/a"
   ]
  },
  {
   "cell_type": "code",
   "execution_count": 79,
   "id": "a2889ff2-932a-4310-a487-204df59f3f60",
   "metadata": {},
   "outputs": [
    {
     "data": {
      "text/plain": [
       "34"
      ]
     },
     "execution_count": 79,
     "metadata": {},
     "output_type": "execute_result"
    }
   ],
   "source": [
    "## display the remainder\n",
    "b%a "
   ]
  },
  {
   "cell_type": "markdown",
   "id": "f777bfab-817c-464d-afa5-b41fabe09020",
   "metadata": {},
   "source": [
    "### Bitwise Operators\n",
    "|Operation|Meaning|\n",
    "|:-:|:-:|\n",
    "| **∼** |bitwise complement (prefix unary operator)|\n",
    "| **&** |bitwise and|\n",
    "| **\\|** |bitwise or|\n",
    "| **^** |bitwise exclusive-or|\n",
    "| **<<** |shift bits left, filling in with zeros|\n",
    "| **>>** |shift bits right, filling in with sign bit|\n"
   ]
  },
  {
   "cell_type": "code",
   "execution_count": 82,
   "id": "291da6de-5b52-403c-a8dd-f99945ddcabb",
   "metadata": {},
   "outputs": [
    {
     "data": {
      "text/plain": [
       "'0b1011'"
      ]
     },
     "execution_count": 82,
     "metadata": {},
     "output_type": "execute_result"
    }
   ],
   "source": [
    "var=11\n",
    "bin(var)"
   ]
  },
  {
   "cell_type": "code",
   "execution_count": 83,
   "id": "14e63cf1-e7d6-4d3c-88a5-0e33203c60e1",
   "metadata": {},
   "outputs": [
    {
     "data": {
      "text/plain": [
       "-12"
      ]
     },
     "execution_count": 83,
     "metadata": {},
     "output_type": "execute_result"
    }
   ],
   "source": [
    "~var"
   ]
  },
  {
   "cell_type": "code",
   "execution_count": 84,
   "id": "5ac60f01-d679-4e39-a6fa-7c97cbe8527e",
   "metadata": {},
   "outputs": [
    {
     "data": {
      "text/plain": [
       "False"
      ]
     },
     "execution_count": 84,
     "metadata": {},
     "output_type": "execute_result"
    }
   ],
   "source": [
    "True & False"
   ]
  },
  {
   "cell_type": "code",
   "execution_count": 85,
   "id": "684fa873-239e-4eaa-9587-b9ee20e4b41d",
   "metadata": {},
   "outputs": [
    {
     "data": {
      "text/plain": [
       "True"
      ]
     },
     "execution_count": 85,
     "metadata": {},
     "output_type": "execute_result"
    }
   ],
   "source": [
    "True | False"
   ]
  },
  {
   "cell_type": "code",
   "execution_count": 86,
   "id": "93040957-c2f9-46b6-8d8c-c9d1c3ba827c",
   "metadata": {},
   "outputs": [
    {
     "data": {
      "text/plain": [
       "5"
      ]
     },
     "execution_count": 86,
     "metadata": {},
     "output_type": "execute_result"
    }
   ],
   "source": [
    "var>>1"
   ]
  },
  {
   "cell_type": "code",
   "execution_count": 87,
   "id": "8bfab7ef-eb46-4e9c-b5f5-e0507a372be4",
   "metadata": {},
   "outputs": [
    {
     "data": {
      "text/plain": [
       "22"
      ]
     },
     "execution_count": 87,
     "metadata": {},
     "output_type": "execute_result"
    }
   ],
   "source": [
    "var<<1"
   ]
  },
  {
   "cell_type": "markdown",
   "id": "2b7d1259-66d6-432a-b014-318835eb1c39",
   "metadata": {},
   "source": [
    "## Strings"
   ]
  },
  {
   "cell_type": "code",
   "execution_count": 91,
   "id": "880d7da4-4da5-46fe-a171-dc927025925d",
   "metadata": {},
   "outputs": [],
   "source": [
    "str1='shashank'"
   ]
  },
  {
   "cell_type": "code",
   "execution_count": 92,
   "id": "f4a9d5f2-e03f-402d-83e0-0047a887d37d",
   "metadata": {},
   "outputs": [
    {
     "data": {
      "text/plain": [
       "str"
      ]
     },
     "execution_count": 92,
     "metadata": {},
     "output_type": "execute_result"
    }
   ],
   "source": [
    "type(str1)"
   ]
  },
  {
   "cell_type": "code",
   "execution_count": 89,
   "id": "755c752e-fbab-46a1-81c4-c785664acf83",
   "metadata": {},
   "outputs": [
    {
     "data": {
      "text/plain": [
       "'s'"
      ]
     },
     "execution_count": 89,
     "metadata": {},
     "output_type": "execute_result"
    }
   ],
   "source": [
    "str1[0]"
   ]
  },
  {
   "cell_type": "code",
   "execution_count": 90,
   "id": "69320f78-e27a-45eb-a5f1-e5cd1b093431",
   "metadata": {},
   "outputs": [
    {
     "ename": "TypeError",
     "evalue": "'str' object does not support item assignment",
     "output_type": "error",
     "traceback": [
      "\u001b[0;31m---------------------------------------------------------------------------\u001b[0m",
      "\u001b[0;31mTypeError\u001b[0m                                 Traceback (most recent call last)",
      "Cell \u001b[0;32mIn[90], line 1\u001b[0m\n\u001b[0;32m----> 1\u001b[0m \u001b[43mstr1\u001b[49m\u001b[43m[\u001b[49m\u001b[38;5;241;43m0\u001b[39;49m\u001b[43m]\u001b[49m\u001b[38;5;241m=\u001b[39m\u001b[38;5;124m'\u001b[39m\u001b[38;5;124mh\u001b[39m\u001b[38;5;124m'\u001b[39m\n",
      "\u001b[0;31mTypeError\u001b[0m: 'str' object does not support item assignment"
     ]
    }
   ],
   "source": [
    "str1[0]='h' ## immutable"
   ]
  },
  {
   "cell_type": "code",
   "execution_count": 93,
   "id": "a21f78d3-afeb-4083-9a00-08fd29fc2d73",
   "metadata": {},
   "outputs": [
    {
     "data": {
      "text/plain": [
       "['__add__',\n",
       " '__class__',\n",
       " '__contains__',\n",
       " '__delattr__',\n",
       " '__dir__',\n",
       " '__doc__',\n",
       " '__eq__',\n",
       " '__format__',\n",
       " '__ge__',\n",
       " '__getattribute__',\n",
       " '__getitem__',\n",
       " '__getnewargs__',\n",
       " '__gt__',\n",
       " '__hash__',\n",
       " '__init__',\n",
       " '__init_subclass__',\n",
       " '__iter__',\n",
       " '__le__',\n",
       " '__len__',\n",
       " '__lt__',\n",
       " '__mod__',\n",
       " '__mul__',\n",
       " '__ne__',\n",
       " '__new__',\n",
       " '__reduce__',\n",
       " '__reduce_ex__',\n",
       " '__repr__',\n",
       " '__rmod__',\n",
       " '__rmul__',\n",
       " '__setattr__',\n",
       " '__sizeof__',\n",
       " '__str__',\n",
       " '__subclasshook__',\n",
       " 'capitalize',\n",
       " 'casefold',\n",
       " 'center',\n",
       " 'count',\n",
       " 'encode',\n",
       " 'endswith',\n",
       " 'expandtabs',\n",
       " 'find',\n",
       " 'format',\n",
       " 'format_map',\n",
       " 'index',\n",
       " 'isalnum',\n",
       " 'isalpha',\n",
       " 'isascii',\n",
       " 'isdecimal',\n",
       " 'isdigit',\n",
       " 'isidentifier',\n",
       " 'islower',\n",
       " 'isnumeric',\n",
       " 'isprintable',\n",
       " 'isspace',\n",
       " 'istitle',\n",
       " 'isupper',\n",
       " 'join',\n",
       " 'ljust',\n",
       " 'lower',\n",
       " 'lstrip',\n",
       " 'maketrans',\n",
       " 'partition',\n",
       " 'removeprefix',\n",
       " 'removesuffix',\n",
       " 'replace',\n",
       " 'rfind',\n",
       " 'rindex',\n",
       " 'rjust',\n",
       " 'rpartition',\n",
       " 'rsplit',\n",
       " 'rstrip',\n",
       " 'split',\n",
       " 'splitlines',\n",
       " 'startswith',\n",
       " 'strip',\n",
       " 'swapcase',\n",
       " 'title',\n",
       " 'translate',\n",
       " 'upper',\n",
       " 'zfill']"
      ]
     },
     "execution_count": 93,
     "metadata": {},
     "output_type": "execute_result"
    }
   ],
   "source": [
    "dir(str1) ## str.(press tab ) the option of inbuilt function"
   ]
  },
  {
   "cell_type": "code",
   "execution_count": 99,
   "id": "f02b823c-e881-4db0-84bd-64e223ae66c4",
   "metadata": {},
   "outputs": [],
   "source": [
    "str2='hey iam shashank'"
   ]
  },
  {
   "cell_type": "code",
   "execution_count": 102,
   "id": "15c55a3c-433b-4a9f-bc5e-da78d1a7f6a6",
   "metadata": {},
   "outputs": [
    {
     "data": {
      "text/plain": [
       "'an'"
      ]
     },
     "execution_count": 102,
     "metadata": {},
     "output_type": "execute_result"
    }
   ],
   "source": [
    "##slice operation\n",
    "str2[-3:-1]"
   ]
  },
  {
   "cell_type": "code",
   "execution_count": 103,
   "id": "7e30fadf-91ee-4212-933d-ddc629624e2e",
   "metadata": {},
   "outputs": [
    {
     "data": {
      "text/plain": [
       "'hey iam shashank'"
      ]
     },
     "execution_count": 103,
     "metadata": {},
     "output_type": "execute_result"
    }
   ],
   "source": [
    "str2[:]"
   ]
  },
  {
   "cell_type": "code",
   "execution_count": 104,
   "id": "bc742acc-33b3-4f92-812a-f5d74a723a45",
   "metadata": {},
   "outputs": [
    {
     "data": {
      "text/plain": [
       "'k'"
      ]
     },
     "execution_count": 104,
     "metadata": {},
     "output_type": "execute_result"
    }
   ],
   "source": [
    "str2[-1]"
   ]
  },
  {
   "cell_type": "code",
   "execution_count": 105,
   "id": "322cd15c-2342-4d8f-89ca-74cbd9cb760b",
   "metadata": {},
   "outputs": [
    {
     "data": {
      "text/plain": [
       "'hey iam shashan'"
      ]
     },
     "execution_count": 105,
     "metadata": {},
     "output_type": "execute_result"
    }
   ],
   "source": [
    "str2[:-1]"
   ]
  },
  {
   "cell_type": "code",
   "execution_count": 107,
   "id": "6ca5158b-66ce-49b5-b0f8-8ea8d9295613",
   "metadata": {},
   "outputs": [
    {
     "data": {
      "text/plain": [
       "'knahsahs mai yeh'"
      ]
     },
     "execution_count": 107,
     "metadata": {},
     "output_type": "execute_result"
    }
   ],
   "source": [
    "str2[::-1] ## double coloumn reverse the sentence "
   ]
  },
  {
   "cell_type": "code",
   "execution_count": 122,
   "id": "744e8025-cd2a-49f9-86f7-c89b5e21133b",
   "metadata": {},
   "outputs": [
    {
     "data": {
      "text/plain": [
       "'Shashankpariwal'"
      ]
     },
     "execution_count": 122,
     "metadata": {},
     "output_type": "execute_result"
    }
   ],
   "source": [
    "## concatenation\n",
    "name=\"Shashank\"\n",
    "name+\"pariwal\""
   ]
  },
  {
   "cell_type": "code",
   "execution_count": 109,
   "id": "4fc60962-02e1-451d-8fd2-d458844e4d6c",
   "metadata": {},
   "outputs": [
    {
     "name": "stdout",
     "output_type": "stream",
     "text": [
      "helloworld\n"
     ]
    }
   ],
   "source": [
    "print(\"hello\"+\"world\")"
   ]
  },
  {
   "cell_type": "code",
   "execution_count": 111,
   "id": "6f706b2e-d557-4d8a-9616-9ec8e739ba7d",
   "metadata": {},
   "outputs": [
    {
     "data": {
      "text/plain": [
       "'hellohellohellohellohello'"
      ]
     },
     "execution_count": 111,
     "metadata": {},
     "output_type": "execute_result"
    }
   ],
   "source": [
    "\"hello\"*5"
   ]
  },
  {
   "cell_type": "code",
   "execution_count": 112,
   "id": "9d24d3db-21cb-4fc6-ba37-7ea6ffffb9f0",
   "metadata": {},
   "outputs": [
    {
     "data": {
      "text/plain": [
       "8"
      ]
     },
     "execution_count": 112,
     "metadata": {},
     "output_type": "execute_result"
    }
   ],
   "source": [
    "len(name) ## tell you about no. of word in sentence (counts everything on the sentence )"
   ]
  },
  {
   "cell_type": "code",
   "execution_count": 114,
   "id": "c2451583-0d2f-4cad-9180-5516b9aa9bc2",
   "metadata": {},
   "outputs": [
    {
     "data": {
      "text/plain": [
       "2"
      ]
     },
     "execution_count": 114,
     "metadata": {},
     "output_type": "execute_result"
    }
   ],
   "source": [
    "## find function\n",
    "name.find('a')"
   ]
  },
  {
   "cell_type": "code",
   "execution_count": 115,
   "id": "c955d139-0d26-4913-8ee7-c33c6e2a9ff8",
   "metadata": {},
   "outputs": [
    {
     "data": {
      "text/plain": [
       "6"
      ]
     },
     "execution_count": 115,
     "metadata": {},
     "output_type": "execute_result"
    }
   ],
   "source": [
    "name.find('n',2)"
   ]
  },
  {
   "cell_type": "code",
   "execution_count": 116,
   "id": "a7344c45-f65b-4d8c-a812-006304c5efa3",
   "metadata": {},
   "outputs": [],
   "source": [
    "## count function\n",
    "## gonna count every character\n",
    "## counts only the given character"
   ]
  },
  {
   "cell_type": "code",
   "execution_count": 119,
   "id": "a54d523f-e275-43ca-a7fc-d9ebd72d97a1",
   "metadata": {},
   "outputs": [
    {
     "data": {
      "text/plain": [
       "2"
      ]
     },
     "execution_count": 119,
     "metadata": {},
     "output_type": "execute_result"
    }
   ],
   "source": [
    "name.count(\"s\")"
   ]
  },
  {
   "cell_type": "code",
   "execution_count": null,
   "id": "242e1861-b76a-4708-83cb-3c9cf4e9673a",
   "metadata": {},
   "outputs": [],
   "source": [
    "## split"
   ]
  },
  {
   "cell_type": "code",
   "execution_count": 123,
   "id": "47c39711-aa1a-4bbc-a62f-8a059ea89333",
   "metadata": {},
   "outputs": [
    {
     "data": {
      "text/plain": [
       "['', 'hashank']"
      ]
     },
     "execution_count": 123,
     "metadata": {},
     "output_type": "execute_result"
    }
   ],
   "source": [
    "\n",
    "name.split(\"S\")"
   ]
  },
  {
   "cell_type": "code",
   "execution_count": 124,
   "id": "9d86a192-acf6-44ee-aaa8-43d0159c34f8",
   "metadata": {},
   "outputs": [
    {
     "data": {
      "text/plain": [
       "['Shashank']"
      ]
     },
     "execution_count": 124,
     "metadata": {},
     "output_type": "execute_result"
    }
   ],
   "source": [
    "name.split(' ')"
   ]
  },
  {
   "cell_type": "code",
   "execution_count": 127,
   "id": "b5392b97-e7e2-4027-bc00-32a371dfcea9",
   "metadata": {},
   "outputs": [
    {
     "data": {
      "text/plain": [
       "('S', 'h', 'ashank')"
      ]
     },
     "execution_count": 127,
     "metadata": {},
     "output_type": "execute_result"
    }
   ],
   "source": [
    "## partition\n",
    "name.partition('h')"
   ]
  },
  {
   "cell_type": "code",
   "execution_count": null,
   "id": "be02a976-5f81-4ce2-9859-57afea887623",
   "metadata": {},
   "outputs": [],
   "source": [
    "## string upper and lowercase"
   ]
  },
  {
   "cell_type": "code",
   "execution_count": 128,
   "id": "f2a037d0-c201-4347-ae3f-944366119511",
   "metadata": {},
   "outputs": [
    {
     "data": {
      "text/plain": [
       "'SHASHANK'"
      ]
     },
     "execution_count": 128,
     "metadata": {},
     "output_type": "execute_result"
    }
   ],
   "source": [
    "name.upper()"
   ]
  },
  {
   "cell_type": "code",
   "execution_count": 129,
   "id": "1a66f26c-bd3a-489c-9130-9bd0d4af09cf",
   "metadata": {},
   "outputs": [
    {
     "data": {
      "text/plain": [
       "'shashank'"
      ]
     },
     "execution_count": 129,
     "metadata": {},
     "output_type": "execute_result"
    }
   ],
   "source": [
    "name.lower()"
   ]
  },
  {
   "cell_type": "code",
   "execution_count": null,
   "id": "6a22c793-e571-45e0-82fd-206c45951f74",
   "metadata": {},
   "outputs": [],
   "source": [
    "## swapcase swap the capital into small and small into capital letter"
   ]
  },
  {
   "cell_type": "code",
   "execution_count": 130,
   "id": "94907edb-b44b-4798-ab15-c547fcb30ccf",
   "metadata": {},
   "outputs": [
    {
     "data": {
      "text/plain": [
       "'sHASHANK'"
      ]
     },
     "execution_count": 130,
     "metadata": {},
     "output_type": "execute_result"
    }
   ],
   "source": [
    "name.swapcase()"
   ]
  },
  {
   "cell_type": "code",
   "execution_count": null,
   "id": "195aadcd-d39c-4cd7-b878-de729e053685",
   "metadata": {},
   "outputs": [],
   "source": [
    "## title"
   ]
  },
  {
   "cell_type": "code",
   "execution_count": 131,
   "id": "d528064d-f81d-40e2-8137-b70852dc527e",
   "metadata": {},
   "outputs": [],
   "source": [
    "name='shashank'"
   ]
  },
  {
   "cell_type": "code",
   "execution_count": 132,
   "id": "fadb89dd-4103-438b-a5bc-ca94f3203fa0",
   "metadata": {},
   "outputs": [
    {
     "data": {
      "text/plain": [
       "'Shashank'"
      ]
     },
     "execution_count": 132,
     "metadata": {},
     "output_type": "execute_result"
    }
   ],
   "source": [
    "name.title()"
   ]
  },
  {
   "cell_type": "code",
   "execution_count": null,
   "id": "f5ac0a29-6df4-46f1-9d34-e6433bbd38eb",
   "metadata": {},
   "outputs": [],
   "source": []
  }
 ],
 "metadata": {
  "kernelspec": {
   "display_name": "Python 3 (ipykernel)",
   "language": "python",
   "name": "python3"
  },
  "language_info": {
   "codemirror_mode": {
    "name": "ipython",
    "version": 3
   },
   "file_extension": ".py",
   "mimetype": "text/x-python",
   "name": "python",
   "nbconvert_exporter": "python",
   "pygments_lexer": "ipython3",
   "version": "3.10.8"
  }
 },
 "nbformat": 4,
 "nbformat_minor": 5
}
