{
 "cells": [
  {
   "cell_type": "code",
   "execution_count": 1,
   "id": "ec139982-ef49-4d5e-97db-c42adde09c58",
   "metadata": {},
   "outputs": [],
   "source": [
    "t = ()"
   ]
  },
  {
   "cell_type": "code",
   "execution_count": 2,
   "id": "0eda6228-4b6e-467a-b197-d438c3d85067",
   "metadata": {},
   "outputs": [
    {
     "data": {
      "text/plain": [
       "tuple"
      ]
     },
     "execution_count": 2,
     "metadata": {},
     "output_type": "execute_result"
    }
   ],
   "source": [
    "type(t)"
   ]
  },
  {
   "cell_type": "code",
   "execution_count": 3,
   "id": "8c48c1de-498c-4ecb-b0bf-5ddbca61c961",
   "metadata": {},
   "outputs": [],
   "source": [
    "## tuple are use to store data in form of list\n",
    "## tuples are different from lists 1. in this we don't use square brackets we use parantheses brackets\n",
    "## in tuples and lists both are used to store data and information"
   ]
  },
  {
   "cell_type": "code",
   "execution_count": 13,
   "id": "a7d1b65e-c079-4afe-9c36-2ec7bf7bb9c3",
   "metadata": {},
   "outputs": [],
   "source": [
    "t=(1,2,3,4,5,5,'shashank','hey')\n"
   ]
  },
  {
   "cell_type": "code",
   "execution_count": 6,
   "id": "9d192c16-0d33-41b5-9d38-cdf97dca4c44",
   "metadata": {},
   "outputs": [
    {
     "data": {
      "text/plain": [
       "(1, 2, 3, 4, 5, 'shashank', 'hey')"
      ]
     },
     "execution_count": 6,
     "metadata": {},
     "output_type": "execute_result"
    }
   ],
   "source": [
    "t"
   ]
  },
  {
   "cell_type": "code",
   "execution_count": 7,
   "id": "df37e7ae-fc7b-4a8d-bacb-f2c1f2ce6b51",
   "metadata": {},
   "outputs": [
    {
     "data": {
      "text/plain": [
       "tuple"
      ]
     },
     "execution_count": 7,
     "metadata": {},
     "output_type": "execute_result"
    }
   ],
   "source": [
    "type(t)"
   ]
  },
  {
   "cell_type": "code",
   "execution_count": 8,
   "id": "809dc304-a067-4d27-ad2e-375a5c50b1f6",
   "metadata": {},
   "outputs": [],
   "source": [
    "lst1=[1,2,3,4,5,6,'hey']"
   ]
  },
  {
   "cell_type": "code",
   "execution_count": 9,
   "id": "d8c43108-83fb-4b86-9960-d3fae7c7569e",
   "metadata": {},
   "outputs": [
    {
     "data": {
      "text/plain": [
       "[1, 2, 3, 4, 5, 6, 'hey']"
      ]
     },
     "execution_count": 9,
     "metadata": {},
     "output_type": "execute_result"
    }
   ],
   "source": [
    "lst1"
   ]
  },
  {
   "cell_type": "code",
   "execution_count": 10,
   "id": "28ebeafd-af65-4147-9b05-c3712832354f",
   "metadata": {},
   "outputs": [
    {
     "data": {
      "text/plain": [
       "list"
      ]
     },
     "execution_count": 10,
     "metadata": {},
     "output_type": "execute_result"
    }
   ],
   "source": [
    "type(lst1)"
   ]
  },
  {
   "cell_type": "code",
   "execution_count": 14,
   "id": "a3396834-7d0d-4864-ab82-bbdcf44124a9",
   "metadata": {},
   "outputs": [
    {
     "data": {
      "text/plain": [
       "5"
      ]
     },
     "execution_count": 14,
     "metadata": {},
     "output_type": "execute_result"
    }
   ],
   "source": [
    "t[4]"
   ]
  },
  {
   "cell_type": "code",
   "execution_count": 15,
   "id": "c5103e20-cfa7-45f5-9d44-dc5fe20c998d",
   "metadata": {},
   "outputs": [
    {
     "data": {
      "text/plain": [
       "('hey', 'shashank', 5, 4, 3, 2, 1)"
      ]
     },
     "execution_count": 15,
     "metadata": {},
     "output_type": "execute_result"
    }
   ],
   "source": [
    "t[::-1]"
   ]
  },
  {
   "cell_type": "code",
   "execution_count": 16,
   "id": "840cdea4-a954-415b-97c2-3d8c14b70f52",
   "metadata": {},
   "outputs": [],
   "source": [
    "t=t[::-1]"
   ]
  },
  {
   "cell_type": "code",
   "execution_count": 15,
   "id": "5b7723fd-fe8b-48fd-8df7-3d5644a00261",
   "metadata": {},
   "outputs": [
    {
     "data": {
      "text/plain": [
       "(1, 2, 3, 4, 5, 5, 'shashank', 'hey')"
      ]
     },
     "execution_count": 15,
     "metadata": {},
     "output_type": "execute_result"
    }
   ],
   "source": [
    "t"
   ]
  },
  {
   "cell_type": "code",
   "execution_count": 14,
   "id": "5d4de4d0-f335-4caf-99be-158f15380cdf",
   "metadata": {},
   "outputs": [
    {
     "data": {
      "text/plain": [
       "2"
      ]
     },
     "execution_count": 14,
     "metadata": {},
     "output_type": "execute_result"
    }
   ],
   "source": [
    "t.count(5)"
   ]
  },
  {
   "cell_type": "code",
   "execution_count": 17,
   "id": "f6a65e47-9e71-4a45-97d0-253a56903449",
   "metadata": {},
   "outputs": [],
   "source": [
    "## system stores value of true as 1 ## True"
   ]
  },
  {
   "cell_type": "code",
   "execution_count": 25,
   "id": "0c2a3352-08a2-4339-ab83-5bf32ba7ab98",
   "metadata": {},
   "outputs": [],
   "source": [
    "t1=(True,1,2,3,4,555,5,5,5,'hello')"
   ]
  },
  {
   "cell_type": "code",
   "execution_count": 26,
   "id": "c967dd94-8043-4d21-a152-d8f4889958bb",
   "metadata": {},
   "outputs": [
    {
     "data": {
      "text/plain": [
       "0"
      ]
     },
     "execution_count": 26,
     "metadata": {},
     "output_type": "execute_result"
    }
   ],
   "source": [
    "t1.index(True)"
   ]
  },
  {
   "cell_type": "code",
   "execution_count": 27,
   "id": "933e6f96-3a0b-4f1f-9144-da4d18dde9dd",
   "metadata": {},
   "outputs": [
    {
     "data": {
      "text/plain": [
       "2"
      ]
     },
     "execution_count": 27,
     "metadata": {},
     "output_type": "execute_result"
    }
   ],
   "source": [
    "t1.count(True)"
   ]
  },
  {
   "cell_type": "code",
   "execution_count": 28,
   "id": "fb8bbfd3-bbec-42a8-99cf-c97f6332f03b",
   "metadata": {},
   "outputs": [
    {
     "data": {
      "text/plain": [
       "(True, 1, 2, 3, 4, 555, 5, 5, 5, 'hello')"
      ]
     },
     "execution_count": 28,
     "metadata": {},
     "output_type": "execute_result"
    }
   ],
   "source": [
    "t1"
   ]
  },
  {
   "cell_type": "code",
   "execution_count": 34,
   "id": "d9efca9f-7ff3-479a-8ad4-2e66c6482f16",
   "metadata": {},
   "outputs": [
    {
     "data": {
      "text/plain": [
       "True"
      ]
     },
     "execution_count": 34,
     "metadata": {},
     "output_type": "execute_result"
    }
   ],
   "source": [
    "t1[0]"
   ]
  },
  {
   "cell_type": "code",
   "execution_count": 30,
   "id": "1a6d1471-0acd-4530-a785-9105d7398c52",
   "metadata": {},
   "outputs": [
    {
     "ename": "TypeError",
     "evalue": "'tuple' object does not support item assignment",
     "output_type": "error",
     "traceback": [
      "\u001b[0;31m---------------------------------------------------------------------------\u001b[0m",
      "\u001b[0;31mTypeError\u001b[0m                                 Traceback (most recent call last)",
      "Cell \u001b[0;32mIn[30], line 1\u001b[0m\n\u001b[0;32m----> 1\u001b[0m \u001b[43mt1\u001b[49m\u001b[43m[\u001b[49m\u001b[38;5;241;43m0\u001b[39;49m\u001b[43m]\u001b[49m\u001b[38;5;241m=\u001b[39m\u001b[38;5;241m100\u001b[39m\n",
      "\u001b[0;31mTypeError\u001b[0m: 'tuple' object does not support item assignment"
     ]
    }
   ],
   "source": [
    "t1[0]=100 ## immutability"
   ]
  },
  {
   "cell_type": "code",
   "execution_count": 52,
   "id": "de021697-758d-4bb1-a47c-5c801fd17b3d",
   "metadata": {},
   "outputs": [],
   "source": [
    "lst_2=[1,2,3,4] ## lists are mutable"
   ]
  },
  {
   "cell_type": "code",
   "execution_count": 53,
   "id": "47643879-dfc8-4bfb-8d62-84e705e5c8bb",
   "metadata": {},
   "outputs": [],
   "source": [
    "lst_2[0] = 'shashank'"
   ]
  },
  {
   "cell_type": "code",
   "execution_count": 54,
   "id": "fe925885-d1da-4652-ae56-5cbb9ca63978",
   "metadata": {},
   "outputs": [
    {
     "data": {
      "text/plain": [
       "['shashank', 2, 3, 4]"
      ]
     },
     "execution_count": 54,
     "metadata": {},
     "output_type": "execute_result"
    }
   ],
   "source": [
    "lst_2"
   ]
  },
  {
   "cell_type": "code",
   "execution_count": 55,
   "id": "eb1ac259-247b-4ed8-9794-a13adeb4e3c5",
   "metadata": {},
   "outputs": [
    {
     "data": {
      "text/plain": [
       "(True, 1, 2, 3, 4, 555, 5, 5, 5, 'hello')"
      ]
     },
     "execution_count": 55,
     "metadata": {},
     "output_type": "execute_result"
    }
   ],
   "source": [
    "t1"
   ]
  },
  {
   "cell_type": "code",
   "execution_count": 58,
   "id": "47b50e75-7a7f-4891-a86a-c2d8b8f46cb3",
   "metadata": {},
   "outputs": [
    {
     "name": "stdout",
     "output_type": "stream",
     "text": [
      "True <class 'bool'>\n",
      "1 <class 'int'>\n",
      "2 <class 'int'>\n",
      "3 <class 'int'>\n",
      "4 <class 'int'>\n",
      "555 <class 'int'>\n",
      "5 <class 'int'>\n",
      "5 <class 'int'>\n",
      "5 <class 'int'>\n",
      "hello <class 'str'>\n"
     ]
    }
   ],
   "source": [
    "for i in t1 :\n",
    "    print(i,type (i)) ###"
   ]
  },
  {
   "cell_type": "code",
   "execution_count": 59,
   "id": "000e5e64-c88e-425f-89a5-e4a8fc9f8d82",
   "metadata": {},
   "outputs": [],
   "source": [
    "t2=(1,2,3,4)"
   ]
  },
  {
   "cell_type": "code",
   "execution_count": 60,
   "id": "83b769a7-1e3b-429f-ae3c-74c067034973",
   "metadata": {},
   "outputs": [
    {
     "data": {
      "text/plain": [
       "(1, 2, 3, 4, 1, 2, 3, 4, 1, 2, 3, 4)"
      ]
     },
     "execution_count": 60,
     "metadata": {},
     "output_type": "execute_result"
    }
   ],
   "source": [
    "t2 * 3"
   ]
  },
  {
   "cell_type": "code",
   "execution_count": 62,
   "id": "54278ad0-74d6-4055-af47-23df7c3b89b5",
   "metadata": {},
   "outputs": [
    {
     "data": {
      "text/plain": [
       "4"
      ]
     },
     "execution_count": 62,
     "metadata": {},
     "output_type": "execute_result"
    }
   ],
   "source": [
    "max(t2)"
   ]
  },
  {
   "cell_type": "code",
   "execution_count": 64,
   "id": "d612b22a-7aae-4873-b790-8874587e9c6b",
   "metadata": {},
   "outputs": [
    {
     "data": {
      "text/plain": [
       "1"
      ]
     },
     "execution_count": 64,
     "metadata": {},
     "output_type": "execute_result"
    }
   ],
   "source": [
    "min(t2)"
   ]
  },
  {
   "cell_type": "markdown",
   "id": "956ad7c5-667a-4b0a-9639-4b586a1ebc88",
   "metadata": {},
   "source": [
    "\"\"\"Tuple are basically follows  Immutability concepts where it is not going to allow to change any element at a perticular index\"\"\""
   ]
  },
  {
   "cell_type": "markdown",
   "id": "39e9474a-3396-46ba-bb0d-5b49a30b10dd",
   "metadata": {},
   "source": [
    "## Tuples cant be change it can be use to keep passwords and important information"
   ]
  },
  {
   "cell_type": "code",
   "execution_count": 65,
   "id": "d3b11078-0cfc-45c6-b025-f4f19428f37d",
   "metadata": {},
   "outputs": [],
   "source": [
    "t3=(t1,t2)"
   ]
  },
  {
   "cell_type": "code",
   "execution_count": 66,
   "id": "50eacf48-54c6-441c-9612-a57d7ddc08eb",
   "metadata": {},
   "outputs": [
    {
     "data": {
      "text/plain": [
       "((True, 1, 2, 3, 4, 555, 5, 5, 5, 'hello'), (1, 2, 3, 4))"
      ]
     },
     "execution_count": 66,
     "metadata": {},
     "output_type": "execute_result"
    }
   ],
   "source": [
    "t3"
   ]
  },
  {
   "cell_type": "code",
   "execution_count": 67,
   "id": "60cee368-37d2-4119-82be-bbbd4d4d8374",
   "metadata": {},
   "outputs": [],
   "source": [
    "## we can insert different tuples in one tuple"
   ]
  },
  {
   "cell_type": "code",
   "execution_count": 68,
   "id": "df6d1b5f-8b8c-4415-9f3b-89a730f50a53",
   "metadata": {},
   "outputs": [],
   "source": [
    "## we can even insert an list on tuples"
   ]
  },
  {
   "cell_type": "code",
   "execution_count": 69,
   "id": "8e47b177-9091-407c-8d39-11e598f51df4",
   "metadata": {},
   "outputs": [],
   "source": [
    "t4=(1,2,3,4,['hey',5,7,8])"
   ]
  },
  {
   "cell_type": "code",
   "execution_count": 70,
   "id": "30db1bfc-4aca-4bc4-b1f4-cf6c88875e53",
   "metadata": {},
   "outputs": [
    {
     "data": {
      "text/plain": [
       "(1, 2, 3, 4, ['hey', 5, 7, 8])"
      ]
     },
     "execution_count": 70,
     "metadata": {},
     "output_type": "execute_result"
    }
   ],
   "source": [
    "t4"
   ]
  },
  {
   "cell_type": "code",
   "execution_count": 71,
   "id": "0673a980-d00a-4577-b0aa-b6e1840ec8a0",
   "metadata": {},
   "outputs": [],
   "source": [
    "del t4"
   ]
  },
  {
   "cell_type": "code",
   "execution_count": 72,
   "id": "98c7a5ca-ef1b-43e6-a99f-12111ac89e46",
   "metadata": {},
   "outputs": [
    {
     "ename": "NameError",
     "evalue": "name 't4' is not defined",
     "output_type": "error",
     "traceback": [
      "\u001b[0;31m---------------------------------------------------------------------------\u001b[0m",
      "\u001b[0;31mNameError\u001b[0m                                 Traceback (most recent call last)",
      "Cell \u001b[0;32mIn[72], line 1\u001b[0m\n\u001b[0;32m----> 1\u001b[0m \u001b[43mt4\u001b[49m\n",
      "\u001b[0;31mNameError\u001b[0m: name 't4' is not defined"
     ]
    }
   ],
   "source": [
    "t4"
   ]
  },
  {
   "cell_type": "code",
   "execution_count": null,
   "id": "aadebc40-8f2d-4f97-a424-f68026ec75f3",
   "metadata": {},
   "outputs": [],
   "source": [
    "## deletation property is also available in tuples"
   ]
  },
  {
   "cell_type": "code",
   "execution_count": 73,
   "id": "9ea86424-834d-4551-aae7-d00564eb6424",
   "metadata": {},
   "outputs": [
    {
     "data": {
      "text/plain": [
       "(1, 2, 3, 4)"
      ]
     },
     "execution_count": 73,
     "metadata": {},
     "output_type": "execute_result"
    }
   ],
   "source": [
    "t2"
   ]
  },
  {
   "cell_type": "code",
   "execution_count": 74,
   "id": "0ae30489-95a3-4eba-bfc8-b7144d19873e",
   "metadata": {},
   "outputs": [
    {
     "data": {
      "text/plain": [
       "4"
      ]
     },
     "execution_count": 74,
     "metadata": {},
     "output_type": "execute_result"
    }
   ],
   "source": [
    "len(t2)"
   ]
  },
  {
   "cell_type": "code",
   "execution_count": 75,
   "id": "9bdbba7a-9b1e-4780-b0cf-72580b4bcb0c",
   "metadata": {},
   "outputs": [],
   "source": [
    "## length of t2"
   ]
  },
  {
   "cell_type": "code",
   "execution_count": 76,
   "id": "3781d3cd-0723-4327-a456-4b3d86b70189",
   "metadata": {},
   "outputs": [
    {
     "data": {
      "text/plain": [
       "(1, 2, 3, 4)"
      ]
     },
     "execution_count": 76,
     "metadata": {},
     "output_type": "execute_result"
    }
   ],
   "source": [
    "t2"
   ]
  },
  {
   "cell_type": "code",
   "execution_count": 77,
   "id": "000b70bf-9abe-4a67-8d24-449d832664b0",
   "metadata": {},
   "outputs": [
    {
     "data": {
      "text/plain": [
       "False"
      ]
     },
     "execution_count": 77,
     "metadata": {},
     "output_type": "execute_result"
    }
   ],
   "source": [
    "'shashank' in t2"
   ]
  },
  {
   "cell_type": "code",
   "execution_count": 78,
   "id": "1984a443-c59a-45ee-931f-3fc0037b34da",
   "metadata": {},
   "outputs": [
    {
     "data": {
      "text/plain": [
       "True"
      ]
     },
     "execution_count": 78,
     "metadata": {},
     "output_type": "execute_result"
    }
   ],
   "source": [
    "4 in t2"
   ]
  },
  {
   "cell_type": "code",
   "execution_count": null,
   "id": "38f9b214-e68a-4010-b544-dfe79ab756d8",
   "metadata": {},
   "outputs": [],
   "source": []
  },
  {
   "cell_type": "code",
   "execution_count": null,
   "id": "46600fe3-3118-49b2-a2bb-fc9a9e1f6d5f",
   "metadata": {},
   "outputs": [],
   "source": []
  },
  {
   "cell_type": "code",
   "execution_count": null,
   "id": "c1be0213-a12a-4a02-bb26-6163309ffd59",
   "metadata": {},
   "outputs": [],
   "source": []
  },
  {
   "cell_type": "code",
   "execution_count": null,
   "id": "128ae45e-a848-457e-a64a-78e0951095d9",
   "metadata": {},
   "outputs": [],
   "source": []
  },
  {
   "cell_type": "code",
   "execution_count": null,
   "id": "ec635728-f96b-4d09-b341-b433c28478d1",
   "metadata": {},
   "outputs": [],
   "source": []
  },
  {
   "cell_type": "code",
   "execution_count": null,
   "id": "2c12f0fa-8767-402b-b301-fba63db43561",
   "metadata": {},
   "outputs": [],
   "source": []
  },
  {
   "cell_type": "code",
   "execution_count": null,
   "id": "19271d2d-ae02-41c3-8756-da5f3faef4ef",
   "metadata": {},
   "outputs": [],
   "source": []
  },
  {
   "cell_type": "code",
   "execution_count": null,
   "id": "af6cdcff-a342-41cb-9ba8-3c39ed51da42",
   "metadata": {},
   "outputs": [],
   "source": []
  },
  {
   "cell_type": "code",
   "execution_count": null,
   "id": "90676949-a960-4d51-962a-ca196f50e678",
   "metadata": {},
   "outputs": [],
   "source": []
  },
  {
   "cell_type": "code",
   "execution_count": null,
   "id": "2a6e6d16-f098-4417-a95a-79f2a7b9eb00",
   "metadata": {},
   "outputs": [],
   "source": []
  },
  {
   "cell_type": "code",
   "execution_count": null,
   "id": "0c37c761-b39c-4c4a-ae5b-6b78ac2862d9",
   "metadata": {},
   "outputs": [],
   "source": []
  },
  {
   "cell_type": "code",
   "execution_count": null,
   "id": "843bb1d3-ff6d-4c81-9eec-fcd36db7b434",
   "metadata": {},
   "outputs": [],
   "source": []
  },
  {
   "cell_type": "code",
   "execution_count": null,
   "id": "7c76332a-6a09-470c-8916-4c5d118bbbcc",
   "metadata": {},
   "outputs": [],
   "source": []
  },
  {
   "cell_type": "code",
   "execution_count": null,
   "id": "9cdbf4a5-17f1-4a0c-96d6-59972d50c0c7",
   "metadata": {},
   "outputs": [],
   "source": []
  },
  {
   "cell_type": "code",
   "execution_count": null,
   "id": "975f49e2-18e9-4053-a5b1-a8be6f987f7d",
   "metadata": {},
   "outputs": [],
   "source": []
  },
  {
   "cell_type": "code",
   "execution_count": null,
   "id": "8af0ebe0-1993-4a67-8176-a898af6b0ac0",
   "metadata": {},
   "outputs": [],
   "source": []
  },
  {
   "cell_type": "code",
   "execution_count": null,
   "id": "b1c8609a-bf94-4d87-be22-7d3b23757f57",
   "metadata": {},
   "outputs": [],
   "source": []
  },
  {
   "cell_type": "code",
   "execution_count": null,
   "id": "d49ac4a0-b67d-4ada-8b40-bfe7130366a5",
   "metadata": {},
   "outputs": [],
   "source": []
  },
  {
   "cell_type": "code",
   "execution_count": null,
   "id": "17814acb-4e43-49fd-a2a3-27547dbc0ab6",
   "metadata": {},
   "outputs": [],
   "source": []
  },
  {
   "cell_type": "code",
   "execution_count": null,
   "id": "bdf2513e-d859-4b61-bc07-5d49199fa3e4",
   "metadata": {},
   "outputs": [],
   "source": []
  },
  {
   "cell_type": "code",
   "execution_count": null,
   "id": "a8749fb5-8f6b-4679-b63c-b6bc8787cbd6",
   "metadata": {},
   "outputs": [],
   "source": []
  },
  {
   "cell_type": "code",
   "execution_count": null,
   "id": "530bdc48-bc48-4624-90ce-18635a3fd29b",
   "metadata": {},
   "outputs": [],
   "source": []
  },
  {
   "cell_type": "code",
   "execution_count": null,
   "id": "1306c196-e58f-4b0e-b6e7-d0f958b49aec",
   "metadata": {},
   "outputs": [],
   "source": []
  },
  {
   "cell_type": "code",
   "execution_count": null,
   "id": "1918260e-e076-41f6-9122-8304757f52ca",
   "metadata": {},
   "outputs": [],
   "source": []
  },
  {
   "cell_type": "code",
   "execution_count": null,
   "id": "ec10d7b3-5c9c-469f-96c1-13dd9cd89bbe",
   "metadata": {},
   "outputs": [],
   "source": []
  },
  {
   "cell_type": "code",
   "execution_count": null,
   "id": "7195b27f-08a5-46d4-815f-f03bff462cb4",
   "metadata": {},
   "outputs": [],
   "source": []
  },
  {
   "cell_type": "code",
   "execution_count": null,
   "id": "13a9b43e-4d00-4670-a467-0d94c853fee2",
   "metadata": {},
   "outputs": [],
   "source": []
  },
  {
   "cell_type": "code",
   "execution_count": null,
   "id": "058bd405-7623-4bcb-afbd-0e2d1b17ddee",
   "metadata": {},
   "outputs": [],
   "source": []
  },
  {
   "cell_type": "code",
   "execution_count": null,
   "id": "b38d39ca-d7e5-4300-a742-214c13706602",
   "metadata": {},
   "outputs": [],
   "source": []
  },
  {
   "cell_type": "code",
   "execution_count": null,
   "id": "63cfa018-2bac-4310-8224-308092f3f213",
   "metadata": {},
   "outputs": [],
   "source": []
  },
  {
   "cell_type": "code",
   "execution_count": null,
   "id": "a603d0dc-4635-4a13-b15a-3e2161d6f54c",
   "metadata": {},
   "outputs": [],
   "source": []
  },
  {
   "cell_type": "code",
   "execution_count": null,
   "id": "ad3a4d85-37d5-4bee-803c-60533ade3319",
   "metadata": {},
   "outputs": [],
   "source": []
  },
  {
   "cell_type": "code",
   "execution_count": null,
   "id": "fe08814c-61a4-442c-b80a-bbe6a086ac0e",
   "metadata": {},
   "outputs": [],
   "source": []
  },
  {
   "cell_type": "code",
   "execution_count": null,
   "id": "aa2b98b1-53ea-491e-86be-2a6ee46e4355",
   "metadata": {},
   "outputs": [],
   "source": []
  },
  {
   "cell_type": "code",
   "execution_count": null,
   "id": "182351cc-32d3-46d0-9fdf-c1d1c7c12337",
   "metadata": {},
   "outputs": [],
   "source": []
  },
  {
   "cell_type": "code",
   "execution_count": null,
   "id": "bd4fd392-05c2-4794-8047-6779c97911aa",
   "metadata": {},
   "outputs": [],
   "source": []
  },
  {
   "cell_type": "code",
   "execution_count": null,
   "id": "d12856be-af26-47c4-8ba4-744968d8bcd9",
   "metadata": {},
   "outputs": [],
   "source": []
  },
  {
   "cell_type": "code",
   "execution_count": null,
   "id": "55de0d0b-c806-469c-9239-3d0db8ec507c",
   "metadata": {},
   "outputs": [],
   "source": []
  },
  {
   "cell_type": "code",
   "execution_count": null,
   "id": "69c3aba5-b166-4c79-81ae-53bf61c158fa",
   "metadata": {},
   "outputs": [],
   "source": []
  },
  {
   "cell_type": "code",
   "execution_count": null,
   "id": "aa8a5125-61fd-4591-9033-f342916ca816",
   "metadata": {},
   "outputs": [],
   "source": []
  },
  {
   "cell_type": "code",
   "execution_count": null,
   "id": "d4cdfa1c-7248-414a-8cdf-3c694ef2ee28",
   "metadata": {},
   "outputs": [],
   "source": []
  },
  {
   "cell_type": "code",
   "execution_count": null,
   "id": "e24f362e-b3d5-4226-bd05-9f0cc2a9f001",
   "metadata": {},
   "outputs": [],
   "source": []
  },
  {
   "cell_type": "code",
   "execution_count": null,
   "id": "36b69a08-13f9-4b73-9f78-3729d7098d49",
   "metadata": {},
   "outputs": [],
   "source": []
  },
  {
   "cell_type": "code",
   "execution_count": null,
   "id": "e93d1fc5-079c-4fce-a0d0-77fcd171a8cc",
   "metadata": {},
   "outputs": [],
   "source": []
  },
  {
   "cell_type": "code",
   "execution_count": null,
   "id": "82613e88-46a6-4670-969c-cf0db3a4fc5e",
   "metadata": {},
   "outputs": [],
   "source": []
  },
  {
   "cell_type": "code",
   "execution_count": null,
   "id": "6c33048a-44ec-4cdf-bc2a-668725b56237",
   "metadata": {},
   "outputs": [],
   "source": []
  },
  {
   "cell_type": "code",
   "execution_count": null,
   "id": "831170ee-f60f-486f-b861-a3ef5829b274",
   "metadata": {},
   "outputs": [],
   "source": []
  },
  {
   "cell_type": "code",
   "execution_count": null,
   "id": "ba2ad241-e878-4305-8f91-8ccf66252525",
   "metadata": {},
   "outputs": [],
   "source": []
  },
  {
   "cell_type": "code",
   "execution_count": null,
   "id": "74ba56f9-8fe9-43be-9c48-68e59f7d52cb",
   "metadata": {},
   "outputs": [],
   "source": []
  },
  {
   "cell_type": "code",
   "execution_count": null,
   "id": "46c30f5e-e613-4e4a-b42a-ec545c6214a3",
   "metadata": {},
   "outputs": [],
   "source": []
  },
  {
   "cell_type": "code",
   "execution_count": null,
   "id": "0d6847a2-ac4d-44a7-8d12-595c58a68f54",
   "metadata": {},
   "outputs": [],
   "source": []
  },
  {
   "cell_type": "code",
   "execution_count": null,
   "id": "21c045b3-4ce4-4a35-b706-d7cda997c1ce",
   "metadata": {},
   "outputs": [],
   "source": []
  },
  {
   "cell_type": "code",
   "execution_count": null,
   "id": "0fbafba3-fbe9-4689-acc7-0f4e86bd0f13",
   "metadata": {},
   "outputs": [],
   "source": []
  },
  {
   "cell_type": "code",
   "execution_count": null,
   "id": "9db0fea3-4b93-4870-9e62-7b7d681ea175",
   "metadata": {},
   "outputs": [],
   "source": []
  }
 ],
 "metadata": {
  "kernelspec": {
   "display_name": "Python 3 (ipykernel)",
   "language": "python",
   "name": "python3"
  },
  "language_info": {
   "codemirror_mode": {
    "name": "ipython",
    "version": 3
   },
   "file_extension": ".py",
   "mimetype": "text/x-python",
   "name": "python",
   "nbconvert_exporter": "python",
   "pygments_lexer": "ipython3",
   "version": "3.10.8"
  }
 },
 "nbformat": 4,
 "nbformat_minor": 5
}
