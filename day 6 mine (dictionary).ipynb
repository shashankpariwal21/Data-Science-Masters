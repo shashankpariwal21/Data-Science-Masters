{
 "cells": [
  {
   "cell_type": "code",
   "execution_count": 25,
   "id": "d0f791fd-cf0f-477e-a189-5eb8aa6cf63a",
   "metadata": {},
   "outputs": [],
   "source": [
    "d3 = {\"name\":\"shasha\",\"name\":\"shashank pariwal\"}"
   ]
  },
  {
   "cell_type": "code",
   "execution_count": 26,
   "id": "90300f4b-e326-4e53-accd-2180adc124be",
   "metadata": {},
   "outputs": [
    {
     "data": {
      "text/plain": [
       "{'name': 'shashank pariwal'}"
      ]
     },
     "execution_count": 26,
     "metadata": {},
     "output_type": "execute_result"
    }
   ],
   "source": [
    "d3"
   ]
  },
  {
   "cell_type": "code",
   "execution_count": 12,
   "id": "07ca4fa5-28a7-476b-97cc-faec78ff171d",
   "metadata": {},
   "outputs": [],
   "source": [
    "d2 = {\"name\" : \"sudh\" , \"name\" : \"sudhanshu\"}"
   ]
  },
  {
   "cell_type": "code",
   "execution_count": 13,
   "id": "b70a9dcd-105d-4e29-952a-1b2ca3bb4c6a",
   "metadata": {},
   "outputs": [
    {
     "data": {
      "text/plain": [
       "{'name': 'sudhanshu'}"
      ]
     },
     "execution_count": 13,
     "metadata": {},
     "output_type": "execute_result"
    }
   ],
   "source": [
    "d2"
   ]
  },
  {
   "cell_type": "code",
   "execution_count": 14,
   "id": "a9b1f6aa-336b-4e66-b7ef-3403bd9fe8b6",
   "metadata": {},
   "outputs": [],
   "source": [
    "d = {}"
   ]
  },
  {
   "cell_type": "code",
   "execution_count": 15,
   "id": "1a6be8e5-fd90-43e9-bb59-b6dd949ad15d",
   "metadata": {},
   "outputs": [
    {
     "data": {
      "text/plain": [
       "dict"
      ]
     },
     "execution_count": 15,
     "metadata": {},
     "output_type": "execute_result"
    }
   ],
   "source": [
    "type(d2)"
   ]
  },
  {
   "cell_type": "code",
   "execution_count": 16,
   "id": "fe480e25-db66-46d0-adde-90efbbcca56c",
   "metadata": {},
   "outputs": [
    {
     "data": {
      "text/plain": [
       "dict"
      ]
     },
     "execution_count": 16,
     "metadata": {},
     "output_type": "execute_result"
    }
   ],
   "source": [
    "type(d)"
   ]
  },
  {
   "cell_type": "markdown",
   "id": "3caf2952-6271-456d-b0a3-97e5bc495abc",
   "metadata": {},
   "source": [
    "key can be string or key can be a numeric value as well "
   ]
  },
  {
   "cell_type": "code",
   "execution_count": null,
   "id": "bc7af184-3a92-4936-a9c8-3c47fc14356c",
   "metadata": {},
   "outputs": [],
   "source": [
    "#for example"
   ]
  },
  {
   "cell_type": "code",
   "execution_count": 29,
   "id": "2ac1b117-c986-4d5e-9d51-0a51fc81843f",
   "metadata": {},
   "outputs": [],
   "source": [
    "d4={1234:\"name\"}"
   ]
  },
  {
   "cell_type": "code",
   "execution_count": 30,
   "id": "33575a7c-e8ff-495b-8a1f-2dee98c33cc5",
   "metadata": {},
   "outputs": [
    {
     "data": {
      "text/plain": [
       "{1234: 'name'}"
      ]
     },
     "execution_count": 30,
     "metadata": {},
     "output_type": "execute_result"
    }
   ],
   "source": [
    "d4"
   ]
  },
  {
   "cell_type": "code",
   "execution_count": 31,
   "id": "3940eb8c-ea2f-45ff-a966-f77de91256ab",
   "metadata": {},
   "outputs": [],
   "source": [
    "d5={234.45:\"fdf\"}"
   ]
  },
  {
   "cell_type": "code",
   "execution_count": 32,
   "id": "e40f80c7-5205-416c-9fb7-0cf060f7188a",
   "metadata": {},
   "outputs": [
    {
     "data": {
      "text/plain": [
       "{234.45: 'fdf'}"
      ]
     },
     "execution_count": 32,
     "metadata": {},
     "output_type": "execute_result"
    }
   ],
   "source": [
    "d5"
   ]
  },
  {
   "cell_type": "code",
   "execution_count": 33,
   "id": "3c6c7497-c7de-423b-9cc3-bdb32cf83889",
   "metadata": {},
   "outputs": [],
   "source": [
    "d6={True:\"abc\"}"
   ]
  },
  {
   "cell_type": "code",
   "execution_count": 34,
   "id": "6ae46470-fcb6-4e61-a1ca-8ee6c52047e6",
   "metadata": {},
   "outputs": [
    {
     "data": {
      "text/plain": [
       "{True: 'abc'}"
      ]
     },
     "execution_count": 34,
     "metadata": {},
     "output_type": "execute_result"
    }
   ],
   "source": [
    "d6"
   ]
  },
  {
   "cell_type": "code",
   "execution_count": 35,
   "id": "533281e6-b71f-40fd-a3c9-f2830b20d538",
   "metadata": {},
   "outputs": [],
   "source": [
    "#a key can be a floating value or any boolian value too wont be able to take a special case or any list."
   ]
  },
  {
   "cell_type": "code",
   "execution_count": 36,
   "id": "0ef16671-0c3d-4ac6-800b-23c73f62188a",
   "metadata": {},
   "outputs": [
    {
     "ename": "SyntaxError",
     "evalue": "incomplete input (11865273.py, line 1)",
     "output_type": "error",
     "traceback": [
      "\u001b[0;36m  Cell \u001b[0;32mIn[36], line 1\u001b[0;36m\u001b[0m\n\u001b[0;31m    d7={#:\"abc\"}\u001b[0m\n\u001b[0m                ^\u001b[0m\n\u001b[0;31mSyntaxError\u001b[0m\u001b[0;31m:\u001b[0m incomplete input\n"
     ]
    }
   ],
   "source": [
    "d7={#:\"abc\"}"
   ]
  },
  {
   "cell_type": "code",
   "execution_count": 37,
   "id": "1c8dd8b4-a187-48b4-8eb6-ce04942cfe2f",
   "metadata": {},
   "outputs": [
    {
     "ename": "TypeError",
     "evalue": "unhashable type: 'list'",
     "output_type": "error",
     "traceback": [
      "\u001b[0;31m---------------------------------------------------------------------------\u001b[0m",
      "\u001b[0;31mTypeError\u001b[0m                                 Traceback (most recent call last)",
      "Cell \u001b[0;32mIn[37], line 1\u001b[0m\n\u001b[0;32m----> 1\u001b[0m d8\u001b[38;5;241m=\u001b[39m{[\u001b[38;5;241m1\u001b[39m,\u001b[38;5;241m2\u001b[39m,\u001b[38;5;241m3\u001b[39m]:\u001b[38;5;124m\"\u001b[39m\u001b[38;5;124mabc\u001b[39m\u001b[38;5;124m\"\u001b[39m}\n",
      "\u001b[0;31mTypeError\u001b[0m: unhashable type: 'list'"
     ]
    }
   ],
   "source": [
    "d8={[1,2,3]:\"abc\"}"
   ]
  },
  {
   "cell_type": "code",
   "execution_count": 38,
   "id": "1a075915-8264-425f-be9a-b61caeab326c",
   "metadata": {},
   "outputs": [],
   "source": [
    "d9={(1,2,3):\"abd\"}"
   ]
  },
  {
   "cell_type": "code",
   "execution_count": 39,
   "id": "da107dcd-9b3b-4310-8af9-4a27941ecad9",
   "metadata": {},
   "outputs": [
    {
     "data": {
      "text/plain": [
       "{(1, 2, 3): 'abd'}"
      ]
     },
     "execution_count": 39,
     "metadata": {},
     "output_type": "execute_result"
    }
   ],
   "source": [
    "d9"
   ]
  },
  {
   "cell_type": "code",
   "execution_count": 40,
   "id": "5868d306-2588-4529-9903-7f11ae78f73e",
   "metadata": {},
   "outputs": [],
   "source": [
    "#tuples works"
   ]
  },
  {
   "cell_type": "code",
   "execution_count": 41,
   "id": "956c6372-4cc8-476a-9627-d7b1816e42dd",
   "metadata": {},
   "outputs": [
    {
     "ename": "TypeError",
     "evalue": "unhashable type: 'set'",
     "output_type": "error",
     "traceback": [
      "\u001b[0;31m---------------------------------------------------------------------------\u001b[0m",
      "\u001b[0;31mTypeError\u001b[0m                                 Traceback (most recent call last)",
      "Cell \u001b[0;32mIn[41], line 1\u001b[0m\n\u001b[0;32m----> 1\u001b[0m d10\u001b[38;5;241m=\u001b[39m{{\u001b[38;5;241m1\u001b[39m,\u001b[38;5;241m2\u001b[39m,\u001b[38;5;241m3\u001b[39m}:\u001b[38;5;124m\"\u001b[39m\u001b[38;5;124msaidn\u001b[39m\u001b[38;5;124m\"\u001b[39m}\n",
      "\u001b[0;31mTypeError\u001b[0m: unhashable type: 'set'"
     ]
    }
   ],
   "source": [
    "d10={{1,2,3}:\"saidn\"}"
   ]
  },
  {
   "cell_type": "markdown",
   "id": "9003dbc6-a7d3-4727-9bfb-b7c9d3c3b212",
   "metadata": {},
   "source": [
    "# set wont work and dict too"
   ]
  },
  {
   "cell_type": "code",
   "execution_count": 47,
   "id": "70d256e5-e6a0-424c-ab7d-90e1569b0ec6",
   "metadata": {},
   "outputs": [
    {
     "ename": "TypeError",
     "evalue": "unhashable type: 'dict'",
     "output_type": "error",
     "traceback": [
      "\u001b[0;31m---------------------------------------------------------------------------\u001b[0m",
      "\u001b[0;31mTypeError\u001b[0m                                 Traceback (most recent call last)",
      "Cell \u001b[0;32mIn[47], line 1\u001b[0m\n\u001b[0;32m----> 1\u001b[0m d11\u001b[38;5;241m=\u001b[39m{{\u001b[38;5;124m\"\u001b[39m\u001b[38;5;124mkey\u001b[39m\u001b[38;5;124m\"\u001b[39m:\u001b[38;5;241m183\u001b[39m}:\u001b[38;5;124m\"\u001b[39m\u001b[38;5;124mabs\u001b[39m\u001b[38;5;124m\"\u001b[39m}\n",
      "\u001b[0;31mTypeError\u001b[0m: unhashable type: 'dict'"
     ]
    }
   ],
   "source": [
    "d11={{\"key\":183}:\"abs\"}"
   ]
  },
  {
   "cell_type": "markdown",
   "id": "11f91602-6e48-4d83-8cbe-e512d3d04827",
   "metadata": {},
   "source": [
    "you can take value on all form (list,set,tuples,dictionary) but only tuples on string"
   ]
  },
  {
   "cell_type": "code",
   "execution_count": 56,
   "id": "65d55be3-35c2-4a15-8d80-09120334c063",
   "metadata": {},
   "outputs": [],
   "source": [
    "d12={\"monday\":(\"chest\",\"triceps\"),\"wednesday\":[\"leg\",\"shoulder\"],\"tuesday\":{\"back\",\"core\",12334,\"biceps\"}}"
   ]
  },
  {
   "cell_type": "code",
   "execution_count": 57,
   "id": "9e892ec7-f9dd-4e14-a07e-fdc792888716",
   "metadata": {},
   "outputs": [
    {
     "data": {
      "text/plain": [
       "{'monday': ('chest', 'triceps'),\n",
       " 'wednesday': ['leg', 'shoulder'],\n",
       " 'tuesday': {12334, 'back', 'biceps', 'core'}}"
      ]
     },
     "execution_count": 57,
     "metadata": {},
     "output_type": "execute_result"
    }
   ],
   "source": [
    "d12"
   ]
  },
  {
   "cell_type": "code",
   "execution_count": 58,
   "id": "50da062c-c591-4e02-ac4a-ef28caff5b11",
   "metadata": {},
   "outputs": [],
   "source": [
    "d12[\"training\"]=(1,2,3) "
   ]
  },
  {
   "cell_type": "code",
   "execution_count": 59,
   "id": "79852abc-7eec-4677-9bb2-9b65685000d3",
   "metadata": {},
   "outputs": [
    {
     "data": {
      "text/plain": [
       "{'monday': ('chest', 'triceps'),\n",
       " 'wednesday': ['leg', 'shoulder'],\n",
       " 'tuesday': {12334, 'back', 'biceps', 'core'},\n",
       " 'training': (1, 2, 3)}"
      ]
     },
     "execution_count": 59,
     "metadata": {},
     "output_type": "execute_result"
    }
   ],
   "source": [
    "d12"
   ]
  },
  {
   "cell_type": "code",
   "execution_count": 61,
   "id": "f23f0c91-67b5-411c-8aa8-fb429d40f493",
   "metadata": {},
   "outputs": [
    {
     "data": {
      "text/plain": [
       "tuple"
      ]
     },
     "execution_count": 61,
     "metadata": {},
     "output_type": "execute_result"
    }
   ],
   "source": [
    "type(d12[\"monday\"])"
   ]
  },
  {
   "cell_type": "code",
   "execution_count": 62,
   "id": "c735c4d4-d107-4af2-ab30-f14f08954e21",
   "metadata": {},
   "outputs": [
    {
     "data": {
      "text/plain": [
       "('chest', 'triceps')"
      ]
     },
     "execution_count": 62,
     "metadata": {},
     "output_type": "execute_result"
    }
   ],
   "source": [
    "d12[\"monday\"]"
   ]
  },
  {
   "cell_type": "code",
   "execution_count": 65,
   "id": "e7c045b7-35c5-4397-b6fb-b3f4d5d3eee4",
   "metadata": {},
   "outputs": [],
   "source": [
    "d12[\"name\"]=\"shashank\""
   ]
  },
  {
   "cell_type": "code",
   "execution_count": 66,
   "id": "995ac577-ffa8-44ef-87cf-7f2d86e93a66",
   "metadata": {},
   "outputs": [
    {
     "data": {
      "text/plain": [
       "{'monday': ('chest', 'triceps'),\n",
       " 'wednesday': ['leg', 'shoulder'],\n",
       " 'tuesday': {12334, 'back', 'biceps', 'core'},\n",
       " 'training': (1, 2, 3),\n",
       " 'name': 'shashank'}"
      ]
     },
     "execution_count": 66,
     "metadata": {},
     "output_type": "execute_result"
    }
   ],
   "source": [
    "d12"
   ]
  },
  {
   "cell_type": "code",
   "execution_count": 67,
   "id": "dab1fe0f-73fc-458a-ae72-2b27d4a85a62",
   "metadata": {},
   "outputs": [
    {
     "data": {
      "text/plain": [
       "str"
      ]
     },
     "execution_count": 67,
     "metadata": {},
     "output_type": "execute_result"
    }
   ],
   "source": [
    "type(d12[\"name\"])"
   ]
  },
  {
   "cell_type": "code",
   "execution_count": 70,
   "id": "1168e282-5b7b-4327-a5be-968f6869b085",
   "metadata": {},
   "outputs": [
    {
     "data": {
      "text/plain": [
       "'SHASHANK'"
      ]
     },
     "execution_count": 70,
     "metadata": {},
     "output_type": "execute_result"
    }
   ],
   "source": [
    "d12[\"name\"].upper()"
   ]
  },
  {
   "cell_type": "code",
   "execution_count": 77,
   "id": "1581e2cd-6906-4e77-ac0a-ec234fbfe3c1",
   "metadata": {},
   "outputs": [],
   "source": [
    "d13 = {\"key\" : {\"name\" : \"shashank\" , \"class\" : \"DSM\"}}\n",
    "#dictionary inside a dictionary"
   ]
  },
  {
   "cell_type": "code",
   "execution_count": 76,
   "id": "c713d24b-4681-41d5-a393-cbc6fe700ff3",
   "metadata": {},
   "outputs": [
    {
     "data": {
      "text/plain": [
       "'shashank'"
      ]
     },
     "execution_count": 76,
     "metadata": {},
     "output_type": "execute_result"
    }
   ],
   "source": [
    "d13[\"key\"][\"name\"]"
   ]
  },
  {
   "cell_type": "code",
   "execution_count": 78,
   "id": "f4eed910-ad5b-4492-ba61-42c25ae17dc9",
   "metadata": {},
   "outputs": [],
   "source": [
    "d13[\"key2\"]=\"shanky\""
   ]
  },
  {
   "cell_type": "code",
   "execution_count": 80,
   "id": "fad0d817-9118-49bc-b1ba-0bd2fa39c26f",
   "metadata": {},
   "outputs": [
    {
     "data": {
      "text/plain": [
       "{'key': {'name': 'shashank', 'class': 'DSM'}, 'key2': 'shanky'}"
      ]
     },
     "execution_count": 80,
     "metadata": {},
     "output_type": "execute_result"
    }
   ],
   "source": [
    "d13\n",
    "#adding"
   ]
  },
  {
   "cell_type": "code",
   "execution_count": 81,
   "id": "3654565a-88aa-4ccc-9a90-2a15fffb20a7",
   "metadata": {},
   "outputs": [],
   "source": [
    "del d13[\"key2\"]"
   ]
  },
  {
   "cell_type": "code",
   "execution_count": 82,
   "id": "b928a810-b5bc-44d0-97e0-1415a24a3054",
   "metadata": {},
   "outputs": [
    {
     "data": {
      "text/plain": [
       "{'key': {'name': 'shashank', 'class': 'DSM'}}"
      ]
     },
     "execution_count": 82,
     "metadata": {},
     "output_type": "execute_result"
    }
   ],
   "source": [
    "d13\n",
    "#deleting"
   ]
  },
  {
   "cell_type": "code",
   "execution_count": 83,
   "id": "acbd9837-f683-4d30-9afb-76d2d8dcb05b",
   "metadata": {},
   "outputs": [],
   "source": [
    "d13.clear()"
   ]
  },
  {
   "cell_type": "code",
   "execution_count": 84,
   "id": "07749f38-3964-4f8b-b736-3dda2b02b5f8",
   "metadata": {},
   "outputs": [
    {
     "data": {
      "text/plain": [
       "{}"
      ]
     },
     "execution_count": 84,
     "metadata": {},
     "output_type": "execute_result"
    }
   ],
   "source": [
    "d13\n",
    "#clear out the whole dictionary"
   ]
  },
  {
   "cell_type": "code",
   "execution_count": 86,
   "id": "9d0fbb23-d39d-4a2e-939c-87a05815fea8",
   "metadata": {},
   "outputs": [
    {
     "data": {
      "text/plain": [
       "5"
      ]
     },
     "execution_count": 86,
     "metadata": {},
     "output_type": "execute_result"
    }
   ],
   "source": [
    "len (d12)\n",
    "#length of the dictionary"
   ]
  },
  {
   "cell_type": "code",
   "execution_count": 87,
   "id": "f1f1d681-e615-422a-855d-91d56b292278",
   "metadata": {},
   "outputs": [
    {
     "data": {
      "text/plain": [
       "dict_keys(['monday', 'wednesday', 'tuesday', 'training', 'name'])"
      ]
     },
     "execution_count": 87,
     "metadata": {},
     "output_type": "execute_result"
    }
   ],
   "source": [
    "d12.keys()\n",
    "#gives the no. of keys present on dict"
   ]
  },
  {
   "cell_type": "code",
   "execution_count": 88,
   "id": "73420195-3dd5-49d7-b286-2001cf47ea63",
   "metadata": {},
   "outputs": [
    {
     "data": {
      "text/plain": [
       "dict_values([('chest', 'triceps'), ['leg', 'shoulder'], {'biceps', 'core', 12334, 'back'}, (1, 2, 3), 'shashank'])"
      ]
     },
     "execution_count": 88,
     "metadata": {},
     "output_type": "execute_result"
    }
   ],
   "source": [
    "d12.values()\n",
    "#gives the no. of values present on dict"
   ]
  },
  {
   "cell_type": "code",
   "execution_count": 90,
   "id": "b8c7e716-0b7a-4d8d-aa1f-30dcb5e764e3",
   "metadata": {},
   "outputs": [
    {
     "data": {
      "text/plain": [
       "[('chest', 'triceps'),\n",
       " ['leg', 'shoulder'],\n",
       " {12334, 'back', 'biceps', 'core'},\n",
       " (1, 2, 3),\n",
       " 'shashank']"
      ]
     },
     "execution_count": 90,
     "metadata": {},
     "output_type": "execute_result"
    }
   ],
   "source": [
    "list(d12.values())\n",
    "#we can do type conversion too"
   ]
  },
  {
   "cell_type": "code",
   "execution_count": 91,
   "id": "404f0279-107f-4b12-863e-8d4bc47a6ab3",
   "metadata": {},
   "outputs": [
    {
     "data": {
      "text/plain": [
       "['monday', 'wednesday', 'tuesday', 'training', 'name']"
      ]
     },
     "execution_count": 91,
     "metadata": {},
     "output_type": "execute_result"
    }
   ],
   "source": [
    "list(d12.keys())"
   ]
  },
  {
   "cell_type": "code",
   "execution_count": 92,
   "id": "1ff50303-830f-4f49-b840-449335ee4439",
   "metadata": {},
   "outputs": [
    {
     "data": {
      "text/plain": [
       "['monday', 'wednesday', 'tuesday', 'training', 'name']"
      ]
     },
     "execution_count": 92,
     "metadata": {},
     "output_type": "execute_result"
    }
   ],
   "source": [
    "list(d12)"
   ]
  },
  {
   "cell_type": "code",
   "execution_count": 93,
   "id": "d6df45e9-2050-41b9-bb55-7a72571f175c",
   "metadata": {},
   "outputs": [
    {
     "data": {
      "text/plain": [
       "[('monday', ('chest', 'triceps')),\n",
       " ('wednesday', ['leg', 'shoulder']),\n",
       " ('tuesday', {12334, 'back', 'biceps', 'core'}),\n",
       " ('training', (1, 2, 3)),\n",
       " ('name', 'shashank')]"
      ]
     },
     "execution_count": 93,
     "metadata": {},
     "output_type": "execute_result"
    }
   ],
   "source": [
    "list(d12.items())"
   ]
  },
  {
   "cell_type": "code",
   "execution_count": 96,
   "id": "b6994079-14b9-417f-8c39-e60a87a2d51e",
   "metadata": {},
   "outputs": [],
   "source": [
    "d16=d12.copy()\n",
    "#copies the data"
   ]
  },
  {
   "cell_type": "code",
   "execution_count": 95,
   "id": "c0f2989a-1777-451d-8d0f-e005d42fd759",
   "metadata": {},
   "outputs": [
    {
     "data": {
      "text/plain": [
       "{'monday': ('chest', 'triceps'),\n",
       " 'wednesday': ['leg', 'shoulder'],\n",
       " 'tuesday': {12334, 'back', 'biceps', 'core'},\n",
       " 'training': (1, 2, 3),\n",
       " 'name': 'shashank'}"
      ]
     },
     "execution_count": 95,
     "metadata": {},
     "output_type": "execute_result"
    }
   ],
   "source": [
    "d16"
   ]
  },
  {
   "cell_type": "code",
   "execution_count": 97,
   "id": "3b38daec-e812-4a3b-9500-1b69393b05fb",
   "metadata": {},
   "outputs": [],
   "source": [
    "del d16['name']"
   ]
  },
  {
   "cell_type": "code",
   "execution_count": 98,
   "id": "2903098e-b9cb-479e-9077-f190970b2e48",
   "metadata": {},
   "outputs": [
    {
     "data": {
      "text/plain": [
       "{'monday': ('chest', 'triceps'),\n",
       " 'wednesday': ['leg', 'shoulder'],\n",
       " 'tuesday': {12334, 'back', 'biceps', 'core'},\n",
       " 'training': (1, 2, 3)}"
      ]
     },
     "execution_count": 98,
     "metadata": {},
     "output_type": "execute_result"
    }
   ],
   "source": [
    "d16"
   ]
  },
  {
   "cell_type": "code",
   "execution_count": 99,
   "id": "b2826125-c797-4b86-ad26-425e481ef603",
   "metadata": {},
   "outputs": [
    {
     "data": {
      "text/plain": [
       "{'monday': ('chest', 'triceps'),\n",
       " 'wednesday': ['leg', 'shoulder'],\n",
       " 'tuesday': {12334, 'back', 'biceps', 'core'},\n",
       " 'training': (1, 2, 3),\n",
       " 'name': 'shashank'}"
      ]
     },
     "execution_count": 99,
     "metadata": {},
     "output_type": "execute_result"
    }
   ],
   "source": [
    "d12"
   ]
  },
  {
   "cell_type": "code",
   "execution_count": 102,
   "id": "3c9959ea-0da8-4383-86d4-07054aa5ea37",
   "metadata": {},
   "outputs": [],
   "source": [
    "d18=d16\n",
    "#refers the same memory at the same time can be get always updated\n"
   ]
  },
  {
   "cell_type": "code",
   "execution_count": 103,
   "id": "96f8591e-616f-42bb-842b-7138817677ab",
   "metadata": {},
   "outputs": [
    {
     "data": {
      "text/plain": [
       "{'monday': ('chest', 'triceps'),\n",
       " 'wednesday': ['leg', 'shoulder'],\n",
       " 'tuesday': {12334, 'back', 'biceps', 'core'},\n",
       " 'training': (1, 2, 3)}"
      ]
     },
     "execution_count": 103,
     "metadata": {},
     "output_type": "execute_result"
    }
   ],
   "source": [
    "d18"
   ]
  },
  {
   "cell_type": "code",
   "execution_count": 104,
   "id": "884246e4-0149-4554-8a0d-d23e48e0d14f",
   "metadata": {},
   "outputs": [
    {
     "data": {
      "text/plain": [
       "'shashank'"
      ]
     },
     "execution_count": 104,
     "metadata": {},
     "output_type": "execute_result"
    }
   ],
   "source": [
    "d12.pop('name')"
   ]
  },
  {
   "cell_type": "code",
   "execution_count": 105,
   "id": "2cadcd8f-64fd-4837-818d-f73795490fe2",
   "metadata": {},
   "outputs": [
    {
     "data": {
      "text/plain": [
       "{'monday': ('chest', 'triceps'),\n",
       " 'wednesday': ['leg', 'shoulder'],\n",
       " 'tuesday': {12334, 'back', 'biceps', 'core'},\n",
       " 'training': (1, 2, 3)}"
      ]
     },
     "execution_count": 105,
     "metadata": {},
     "output_type": "execute_result"
    }
   ],
   "source": [
    "d12"
   ]
  },
  {
   "cell_type": "code",
   "execution_count": 106,
   "id": "fe65a9a3-d9f9-4d5b-b47d-62276bc1851a",
   "metadata": {},
   "outputs": [
    {
     "data": {
      "text/plain": [
       "(1, 2, 3)"
      ]
     },
     "execution_count": 106,
     "metadata": {},
     "output_type": "execute_result"
    }
   ],
   "source": [
    "d12.pop('training')"
   ]
  },
  {
   "cell_type": "code",
   "execution_count": 107,
   "id": "3b808b7d-1636-4961-ac4a-1c12bc1e22fa",
   "metadata": {},
   "outputs": [
    {
     "data": {
      "text/plain": [
       "{'monday': ('chest', 'triceps'),\n",
       " 'wednesday': ['leg', 'shoulder'],\n",
       " 'tuesday': {12334, 'back', 'biceps', 'core'}}"
      ]
     },
     "execution_count": 107,
     "metadata": {},
     "output_type": "execute_result"
    }
   ],
   "source": [
    "d12"
   ]
  },
  {
   "cell_type": "code",
   "execution_count": 110,
   "id": "427ec6ca-8343-4d56-b094-29042a026f59",
   "metadata": {},
   "outputs": [
    {
     "data": {
      "text/plain": [
       "{1: ('s', 'd', 'r'), 2: ('s', 'd', 'r'), 3: ('s', 'd', 'r')}"
      ]
     },
     "execution_count": 110,
     "metadata": {},
     "output_type": "execute_result"
    }
   ],
   "source": [
    "d.fromkeys((1,2,3),('s','d','r'))\n",
    "#writes any thing in a form of key"
   ]
  },
  {
   "cell_type": "code",
   "execution_count": 111,
   "id": "6d01e569-1867-47e2-8ee2-c9504a224141",
   "metadata": {},
   "outputs": [],
   "source": [
    "d19 = {\"key1\" : \"value\" , \"key2\" : \"value2\"}\n",
    "d20 = {\"key3\" : \"value3\" , \"key4\" :\"value4\"}"
   ]
  },
  {
   "cell_type": "code",
   "execution_count": 112,
   "id": "7be9150e-8d4f-471e-ac15-9996bb5bd83d",
   "metadata": {},
   "outputs": [
    {
     "data": {
      "text/plain": [
       "({'key1': 'value', 'key2': 'value2'}, {'key3': 'value3', 'key4': 'value4'})"
      ]
     },
     "execution_count": 112,
     "metadata": {},
     "output_type": "execute_result"
    }
   ],
   "source": [
    "(d19,d20)\n",
    "#dictionary can be combine into tuples"
   ]
  },
  {
   "cell_type": "code",
   "execution_count": 113,
   "id": "b99cae3d-83d2-43c7-8462-8df50c008072",
   "metadata": {},
   "outputs": [],
   "source": [
    "d19.update(d20)\n",
    "#updates the data from the dict to the given dict"
   ]
  },
  {
   "cell_type": "code",
   "execution_count": 114,
   "id": "e6322e43-7f98-4492-9cee-6dbbd68274c8",
   "metadata": {},
   "outputs": [
    {
     "data": {
      "text/plain": [
       "{'key1': 'value', 'key2': 'value2', 'key3': 'value3', 'key4': 'value4'}"
      ]
     },
     "execution_count": 114,
     "metadata": {},
     "output_type": "execute_result"
    }
   ],
   "source": [
    "d19"
   ]
  },
  {
   "cell_type": "code",
   "execution_count": 115,
   "id": "66c84de0-8c5a-48b4-9616-64cdf12fcb52",
   "metadata": {},
   "outputs": [
    {
     "data": {
      "text/plain": [
       "{'key3': 'value3', 'key4': 'value4'}"
      ]
     },
     "execution_count": 115,
     "metadata": {},
     "output_type": "execute_result"
    }
   ],
   "source": [
    "d20"
   ]
  },
  {
   "cell_type": "code",
   "execution_count": 120,
   "id": "3dbbc955-dae1-48c7-897e-acf21c5c5ca4",
   "metadata": {},
   "outputs": [],
   "source": [
    "d19.get('shashank')\n",
    "#doesnt give an error notification"
   ]
  },
  {
   "cell_type": "code",
   "execution_count": 121,
   "id": "e2584bac-8fca-4a7d-9cf0-c8e4d2883387",
   "metadata": {},
   "outputs": [
    {
     "data": {
      "text/plain": [
       "'value'"
      ]
     },
     "execution_count": 121,
     "metadata": {},
     "output_type": "execute_result"
    }
   ],
   "source": [
    "d19['key1']"
   ]
  },
  {
   "cell_type": "code",
   "execution_count": 122,
   "id": "dceb44b8-277a-42a5-9f05-5d6fa456bb77",
   "metadata": {},
   "outputs": [
    {
     "data": {
      "text/plain": [
       "'value'"
      ]
     },
     "execution_count": 122,
     "metadata": {},
     "output_type": "execute_result"
    }
   ],
   "source": [
    "d19.get('key1')"
   ]
  },
  {
   "cell_type": "code",
   "execution_count": 124,
   "id": "861781a8-7789-4e4b-bd37-d8fb72ce5c4f",
   "metadata": {},
   "outputs": [
    {
     "ename": "KeyError",
     "evalue": "'shashank'",
     "output_type": "error",
     "traceback": [
      "\u001b[0;31m---------------------------------------------------------------------------\u001b[0m",
      "\u001b[0;31mKeyError\u001b[0m                                  Traceback (most recent call last)",
      "Cell \u001b[0;32mIn[124], line 1\u001b[0m\n\u001b[0;32m----> 1\u001b[0m \u001b[43md19\u001b[49m\u001b[43m[\u001b[49m\u001b[38;5;124;43m'\u001b[39;49m\u001b[38;5;124;43mshashank\u001b[39;49m\u001b[38;5;124;43m'\u001b[39;49m\u001b[43m]\u001b[49m\n\u001b[1;32m      2\u001b[0m \u001b[38;5;66;03m#gives an error notification\u001b[39;00m\n",
      "\u001b[0;31mKeyError\u001b[0m: 'shashank'"
     ]
    }
   ],
   "source": [
    "d19['shashank']\n",
    "#gives an error notification"
   ]
  },
  {
   "cell_type": "code",
   "execution_count": 126,
   "id": "00e5bdfd-8db5-471a-81d2-d7fdee9a7c07",
   "metadata": {},
   "outputs": [
    {
     "ename": "SyntaxError",
     "evalue": "invalid syntax (814236266.py, line 1)",
     "output_type": "error",
     "traceback": [
      "\u001b[0;36m  Cell \u001b[0;32mIn[126], line 1\u001b[0;36m\u001b[0m\n\u001b[0;31m    {for i in range(1,11)}\u001b[0m\n\u001b[0m     ^\u001b[0m\n\u001b[0;31mSyntaxError\u001b[0m\u001b[0;31m:\u001b[0m invalid syntax\n"
     ]
    }
   ],
   "source": [
    "{for i in range(1,11)}"
   ]
  },
  {
   "cell_type": "code",
   "execution_count": 129,
   "id": "efe0796f-6436-471a-a414-1579f3007ae5",
   "metadata": {},
   "outputs": [
    {
     "data": {
      "text/plain": [
       "[1, 2, 3, 4, 5, 6, 7, 8, 9, 10]"
      ]
     },
     "execution_count": 129,
     "metadata": {},
     "output_type": "execute_result"
    }
   ],
   "source": [
    "list(range(1,11))"
   ]
  },
  {
   "cell_type": "code",
   "execution_count": 130,
   "id": "95672e0e-067a-438d-b9f8-926f2fad86ee",
   "metadata": {},
   "outputs": [
    {
     "data": {
      "text/plain": [
       "{1: 1, 2: 4, 3: 9, 4: 16, 5: 25, 6: 36, 7: 49, 8: 64, 9: 81, 10: 100}"
      ]
     },
     "execution_count": 130,
     "metadata": {},
     "output_type": "execute_result"
    }
   ],
   "source": [
    "{i:i**2 for i in range(1,11)}\n",
    "# by squaring it guves the outcome in form of dictionary \n",
    "#use of comprehensive function "
   ]
  },
  {
   "cell_type": "code",
   "execution_count": 131,
   "id": "ddace8b5-e402-4e9c-b4a1-00ce7513a215",
   "metadata": {},
   "outputs": [
    {
     "data": {
      "text/plain": [
       "{1: 3, 2: 4, 3: 5, 4: 6, 5: 7, 6: 8, 7: 9, 8: 10, 9: 11, 10: 12}"
      ]
     },
     "execution_count": 131,
     "metadata": {},
     "output_type": "execute_result"
    }
   ],
   "source": [
    "{i:i+2 for i in range(1,11)}"
   ]
  },
  {
   "cell_type": "code",
   "execution_count": 135,
   "id": "0380257c-47e9-4394-a3b9-6becfa5666f4",
   "metadata": {},
   "outputs": [
    {
     "data": {
      "text/plain": [
       "{1: 0.0,\n",
       " 2: 0.6931471805599453,\n",
       " 3: 1.0986122886681098,\n",
       " 4: 1.3862943611198906,\n",
       " 5: 1.6094379124341003,\n",
       " 6: 1.791759469228055,\n",
       " 7: 1.9459101490553132,\n",
       " 8: 2.0794415416798357,\n",
       " 9: 2.1972245773362196,\n",
       " 10: 2.302585092994046}"
      ]
     },
     "execution_count": 135,
     "metadata": {},
     "output_type": "execute_result"
    }
   ],
   "source": [
    "import math\n",
    "{i:math.log(i) for i in range(1,11)}"
   ]
  },
  {
   "cell_type": "code",
   "execution_count": 136,
   "id": "b0dcbe73-96a9-48b2-9237-8b6204f7f5f7",
   "metadata": {},
   "outputs": [
    {
     "data": {
      "text/plain": [
       "False"
      ]
     },
     "execution_count": 136,
     "metadata": {},
     "output_type": "execute_result"
    }
   ],
   "source": [
    "'name' in d12"
   ]
  },
  {
   "cell_type": "code",
   "execution_count": 137,
   "id": "e797054d-05ea-4b4c-84eb-2ac28b4e3446",
   "metadata": {},
   "outputs": [],
   "source": [
    "import math\n",
    "d21={i:math.log(i) for i in range(1,11)}"
   ]
  },
  {
   "cell_type": "code",
   "execution_count": 138,
   "id": "1d4c3811-1047-416e-9ee4-e665672539df",
   "metadata": {},
   "outputs": [
    {
     "data": {
      "text/plain": [
       "{1: 0.0,\n",
       " 2: 0.6931471805599453,\n",
       " 3: 1.0986122886681098,\n",
       " 4: 1.3862943611198906,\n",
       " 5: 1.6094379124341003,\n",
       " 6: 1.791759469228055,\n",
       " 7: 1.9459101490553132,\n",
       " 8: 2.0794415416798357,\n",
       " 9: 2.1972245773362196,\n",
       " 10: 2.302585092994046}"
      ]
     },
     "execution_count": 138,
     "metadata": {},
     "output_type": "execute_result"
    }
   ],
   "source": [
    "d21"
   ]
  },
  {
   "cell_type": "code",
   "execution_count": 139,
   "id": "7a6d6a23-be8b-44b8-a7ac-b0c4ad2586e8",
   "metadata": {},
   "outputs": [],
   "source": [
    "#filtering out where keys are even no."
   ]
  },
  {
   "cell_type": "code",
   "execution_count": 141,
   "id": "7db3863d-0787-4717-99a5-65bddefad18b",
   "metadata": {},
   "outputs": [
    {
     "name": "stdout",
     "output_type": "stream",
     "text": [
      "0.6931471805599453\n",
      "1.3862943611198906\n",
      "1.791759469228055\n",
      "2.0794415416798357\n",
      "2.302585092994046\n"
     ]
    }
   ],
   "source": [
    "for i in d21.keys():\n",
    "    if i % 2 == 0 :\n",
    "        print(d21[i])\n",
    "         "
   ]
  },
  {
   "cell_type": "code",
   "execution_count": null,
   "id": "e6b6328a-5d2f-407b-857f-88324c39eb50",
   "metadata": {},
   "outputs": [],
   "source": []
  },
  {
   "cell_type": "code",
   "execution_count": null,
   "id": "a1fb56dd-1b6d-40b0-85d7-1beb80136f24",
   "metadata": {},
   "outputs": [],
   "source": []
  }
 ],
 "metadata": {
  "kernelspec": {
   "display_name": "Python 3 (ipykernel)",
   "language": "python",
   "name": "python3"
  },
  "language_info": {
   "codemirror_mode": {
    "name": "ipython",
    "version": 3
   },
   "file_extension": ".py",
   "mimetype": "text/x-python",
   "name": "python",
   "nbconvert_exporter": "python",
   "pygments_lexer": "ipython3",
   "version": "3.10.8"
  }
 },
 "nbformat": 4,
 "nbformat_minor": 5
}
